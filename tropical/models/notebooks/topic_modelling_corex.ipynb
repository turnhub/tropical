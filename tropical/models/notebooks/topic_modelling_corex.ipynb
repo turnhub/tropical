{
 "cells": [
  {
   "cell_type": "code",
   "execution_count": 1,
   "metadata": {
    "tags": []
   },
   "outputs": [
    {
     "output_type": "stream",
     "name": "stdout",
     "text": "module_path = /home/ari/Documents/Repos/tropical\n"
    }
   ],
   "source": [
    "import sys\n",
    "import os\n",
    "\n",
    "# NOTE: The below import is useful to bring the local modules into the Python path!\n",
    "module_path = os.path.abspath(os.path.join('../../..'))\n",
    "print(\"module_path =\", module_path, flush=True)\n",
    "\n",
    "if module_path not in sys.path:\n",
    "    sys.path.append(module_path)\n"
   ]
  },
  {
   "cell_type": "code",
   "execution_count": 2,
   "metadata": {},
   "outputs": [],
   "source": [
    "import unittest\n",
    "import wget\n",
    "import pandas as pd\n",
    "import json\n",
    "\n",
    "import seaborn as sns\n",
    "import matplotlib.pyplot as plt\n"
   ]
  },
  {
   "cell_type": "code",
   "execution_count": 3,
   "metadata": {},
   "outputs": [],
   "source": [
    "%reload_ext autoreload\n",
    "%autoreload\n",
    "\n",
    "from tropical.models import topic_modelling_corex\n"
   ]
  },
  {
   "cell_type": "code",
   "execution_count": 4,
   "metadata": {},
   "outputs": [],
   "source": [
    "file_url = \"https://storage.googleapis.com/io-feersum-vectors-nlu-prod/Extract_inbound_that_triggered_catchall_2020_04_20.csv?\"\\\n",
    "\"x-goog-signature=7a038d055fa6b6fd06384a84690deae8beda042450efbfd4935e23be843c624db6d34a573faa084a0539029d0f85dddedb6\"\\\n",
    "\"88c843ad0671fe6578da0b041675ed9f68b315dafd97da197dd44503096cce45cdd364592fc61df16f6be41f8c8268a537b40bb57a6ea2c61fa4\"\\\n",
    "\"381f3973222a57a5dbc38d82b1b0d91cbefb35024a173cbd726363dcdc8ba5b412de448b6309d5121eee470163c46750e92f93fc8b5e40750365\"\\\n",
    "\"184a337c927b72c8cf9cedef830ecc475fec72a594fdea869a5f683e131144ae37f6413d84c79605f485aeb8a999f989f718fe63d68f0c6b2984\"\\\n",
    "\"6f73ece8dac59a30cb68b9397947855f3caeb25aa41c1cba52d36f711c96fd031&x-goog-algorithm=GOOG4-RSA-SHA256&x-goog-credentia\"\\\n",
    "\"l=gcp-storage%40feersum-221018.iam.gserviceaccount.com%2F20200818%2Fmulti%2Fstorage%2Fgoog4_request&x-goog-date=20200\"\\\n",
    "\"818T082034Z&x-goog-expires=604800&x-goog-signedheaders=host\"\n"
   ]
  },
  {
   "cell_type": "code",
   "execution_count": 5,
   "metadata": {
    "tags": []
   },
   "outputs": [
    {
     "output_type": "stream",
     "name": "stdout",
     "text": "filename = Extract_inbound_that_triggered_catchall_2020_04_20.csv\nIndex(['day', 'uuid', 'content', 'rn'], dtype='object')\n                 rn\ncount  20014.000000\nmean    2497.760118\nstd     1444.404631\nmin        1.000000\n25%     1247.000000\n50%     2498.000000\n75%     3748.750000\nmax     4999.000000\n                    day                                  uuid  \\\n12706  2020-04-19 00:00  d8e1e041-00ee-5c43-7d3b-708d05f2dead   \n5094   2020-04-18 00:00  d3d57d4b-2fc9-a8b6-6c0f-047b308e1eba   \n10399  2020-04-19 00:00  b32ac988-ba6b-8534-16f2-d231062dfacf   \n362    2020-04-17 00:00  6c6a9329-1bac-f7ef-d62a-51aadaad10c9   \n10470  2020-04-19 00:00  dc0c5ff8-1645-9a5d-a81c-f51e14a59089   \n\n                                                 content    rn  \n12706                                             Causes  2691  \n5094                                            1\\nCases    78  \n10399                                   What is Coved 19   384  \n362                                                 Work   345  \n10470  Namahadi Cas 156/04/2020 Disaster Management A...   455  \n"
    }
   ],
   "source": [
    "filename = wget.download(file_url)\n",
    "print(\"filename =\", filename)\n",
    "df = pd.read_csv(filename)\n",
    "os.remove(filename)\n",
    "\n",
    "print(df.columns)\n",
    "print(df.describe())\n",
    "print(df.sample(n=5))\n"
   ]
  },
  {
   "cell_type": "code",
   "execution_count": 6,
   "metadata": {},
   "outputs": [],
   "source": [
    "\n",
    "analyser = topic_modelling_corex.TopicModellingCorex(n_topics=10)"
   ]
  },
  {
   "cell_type": "code",
   "execution_count": 8,
   "metadata": {
    "tags": []
   },
   "outputs": [
    {
     "output_type": "stream",
     "name": "stdout",
     "text": "utterance_length_threshold = 231.0\nThere are 5 time frames\nWorking on Frame 2020-04-16 00:00\nVectorizing using TF-IDF\nVectorizing using TF-IDF\nThere are 5 time frames\nWorking on Frame 2020-04-17 00:00\nVectorizing using TF-IDF\nVectorizing using TF-IDF\nThere are 5 time frames\nWorking on Frame 2020-04-18 00:00\nVectorizing using TF-IDF\nVectorizing using TF-IDF\nThere are 5 time frames\nWorking on Frame 2020-04-19 00:00\nVectorizing using TF-IDF\nVectorizing using TF-IDF\nThere are 5 time frames\nWorking on Frame 2020-04-20 00:00\nVectorizing using TF-IDF\nVectorizing using TF-IDF\n"
    }
   ],
   "source": [
    "result_frames = analyser.analyse_dataframe(df)"
   ]
  },
  {
   "cell_type": "code",
   "execution_count": 9,
   "metadata": {
    "tags": [
     "outputPrepend"
    ]
   },
   "outputs": [
    {
     "output_type": "stream",
     "name": "stdout",
     "text": "          \"fe9dfe72-a818-c885-bbb5-cbd4ac935544\": {\n                \"content\": \"*more*\",\n                \"processsed_content\": \"*more*\",\n                \"rn\": 4593,\n                \"time_frame\": \"2020-04-20 00:00\",\n                \"topic_1\": 0,\n                \"topic_10\": 0,\n                \"topic_2\": 0,\n                \"topic_3\": 0,\n                \"topic_4\": 0,\n                \"topic_5\": 0,\n                \"topic_6\": 0,\n                \"topic_7\": 0,\n                \"topic_8\": 0,\n                \"topic_9\": 0,\n                \"utterance_length\": 6\n            },\n            \"febbc71f-c24d-81ec-95a8-5cb3b0608a5e\": {\n                \"content\": \"1. English\",\n                \"processsed_content\": \"1. english\",\n                \"rn\": 3498,\n                \"time_frame\": \"2020-04-20 00:00\",\n                \"topic_1\": 0,\n                \"topic_10\": 0,\n                \"topic_2\": 0,\n                \"topic_3\": 0,\n                \"topic_4\": 0,\n                \"topic_5\": 0,\n                \"topic_6\": 0,\n                \"topic_7\": 0,\n                \"topic_8\": 0,\n                \"topic_9\": 0,\n                \"utterance_length\": 10\n            },\n            \"fec0e131-cc8c-37aa-6578-e2e51fcead4f\": {\n                \"content\": \"Uyasazi isizulu\",\n                \"processsed_content\": \"uyasazi isizulu\",\n                \"rn\": 60,\n                \"time_frame\": \"2020-04-20 00:00\",\n                \"topic_1\": 0,\n                \"topic_10\": 0,\n                \"topic_2\": 0,\n                \"topic_3\": 0,\n                \"topic_4\": 0,\n                \"topic_5\": 0,\n                \"topic_6\": 0,\n                \"topic_7\": 0,\n                \"topic_8\": 0,\n                \"topic_9\": 0,\n                \"utterance_length\": 15\n            },\n            \"fec52c7f-d995-e1cb-388c-1347863e68c8\": {\n                \"content\": \"1.\",\n                \"processsed_content\": \"1.\",\n                \"rn\": 4569,\n                \"time_frame\": \"2020-04-20 00:00\",\n                \"topic_1\": 0,\n                \"topic_10\": 0,\n                \"topic_2\": 0,\n                \"topic_3\": 0,\n                \"topic_4\": 0,\n                \"topic_5\": 0,\n                \"topic_6\": 0,\n                \"topic_7\": 0,\n                \"topic_8\": 0,\n                \"topic_9\": 0,\n                \"utterance_length\": 2\n            },\n            \"fecd2a16-0c0e-0c92-7ed1-35b773b77f62\": {\n                \"content\": \"Screening\",\n                \"processsed_content\": \"screening\",\n                \"rn\": 2421,\n                \"time_frame\": \"2020-04-20 00:00\",\n                \"topic_1\": 0,\n                \"topic_10\": 0,\n                \"topic_2\": 0,\n                \"topic_3\": 0,\n                \"topic_4\": 0,\n                \"topic_5\": 0,\n                \"topic_6\": 0,\n                \"topic_7\": 0,\n                \"topic_8\": 0,\n                \"topic_9\": 0,\n                \"utterance_length\": 9\n            },\n            \"fece4980-bcd9-59ad-2bba-a1033311550c\": {\n                \"content\": \"Nwes\",\n                \"processsed_content\": \"nwes\",\n                \"rn\": 687,\n                \"time_frame\": \"2020-04-20 00:00\",\n                \"topic_1\": 0,\n                \"topic_10\": 0,\n                \"topic_2\": 0,\n                \"topic_3\": 0,\n                \"topic_4\": 0,\n                \"topic_5\": 0,\n                \"topic_6\": 0,\n                \"topic_7\": 0,\n                \"topic_8\": 0,\n                \"topic_9\": 0,\n                \"utterance_length\": 4\n            },\n            \"fef10a0f-9148-a63c-c251-b09995fdb688\": {\n                \"content\": \"Video plz\",\n                \"processsed_content\": \"video plz\",\n                \"rn\": 3309,\n                \"time_frame\": \"2020-04-20 00:00\",\n                \"topic_1\": 0,\n                \"topic_10\": 0,\n                \"topic_2\": 0,\n                \"topic_3\": 0,\n                \"topic_4\": 0,\n                \"topic_5\": 0,\n                \"topic_6\": 0,\n                \"topic_7\": 0,\n                \"topic_8\": 0,\n                \"topic_9\": 0,\n                \"utterance_length\": 9\n            },\n            \"fef38f63-3648-4d42-449a-a594cda3599c\": {\n                \"content\": \"🗓️\",\n                \"processsed_content\": \"🗓️\",\n                \"rn\": 3839,\n                \"time_frame\": \"2020-04-20 00:00\",\n                \"topic_1\": 0,\n                \"topic_10\": 0,\n                \"topic_2\": 0,\n                \"topic_3\": 0,\n                \"topic_4\": 0,\n                \"topic_5\": 0,\n                \"topic_6\": 0,\n                \"topic_7\": 0,\n                \"topic_8\": 0,\n                \"topic_9\": 0,\n                \"utterance_length\": 2\n            },\n            \"fefaecbf-9aab-a0ae-f62a-fb4aa5b4b16b\": {\n                \"content\": \".rnu\",\n                \"processsed_content\": \".rnu\",\n                \"rn\": 1858,\n                \"time_frame\": \"2020-04-20 00:00\",\n                \"topic_1\": 0,\n                \"topic_10\": 0,\n                \"topic_2\": 0,\n                \"topic_3\": 0,\n                \"topic_4\": 0,\n                \"topic_5\": 0,\n                \"topic_6\": 0,\n                \"topic_7\": 0,\n                \"topic_8\": 0,\n                \"topic_9\": 0,\n                \"utterance_length\": 4\n            },\n            \"ff03de56-72ee-5be5-3a9a-0c92cbba9a3f\": {\n                \"content\": \"Uzikhusela\",\n                \"processsed_content\": \"uzikhusela\",\n                \"rn\": 2621,\n                \"time_frame\": \"2020-04-20 00:00\",\n                \"topic_1\": 0,\n                \"topic_10\": 0,\n                \"topic_2\": 0,\n                \"topic_3\": 0,\n                \"topic_4\": 0,\n                \"topic_5\": 0,\n                \"topic_6\": 0,\n                \"topic_7\": 0,\n                \"topic_8\": 0,\n                \"topic_9\": 0,\n                \"utterance_length\": 10\n            },\n            \"ff1f0c04-080d-4569-2722-a31b57ab59cd\": {\n                \"content\": \"List of death\",\n                \"processsed_content\": \"list death\",\n                \"rn\": 571,\n                \"time_frame\": \"2020-04-20 00:00\",\n                \"topic_1\": 0,\n                \"topic_10\": 0,\n                \"topic_2\": 0,\n                \"topic_3\": 0,\n                \"topic_4\": 0,\n                \"topic_5\": 0,\n                \"topic_6\": 0,\n                \"topic_7\": 0,\n                \"topic_8\": 0,\n                \"topic_9\": 0,\n                \"utterance_length\": 13\n            },\n            \"ff20800a-1a11-c7b3-a8b9-dd812a61dd9a\": {\n                \"content\": \"https://www.opinionstage.com/stellamaxwell/how-teachers-can-help-students-overcome-learning-barriers\",\n                \"processsed_content\": \"https://www.opinionstage.com/stellamaxwell/how-teachers-can-help-students-overcome-learning-barriers\",\n                \"rn\": 2745,\n                \"time_frame\": \"2020-04-20 00:00\",\n                \"topic_1\": 1,\n                \"topic_10\": 0,\n                \"topic_2\": 0,\n                \"topic_3\": 0,\n                \"topic_4\": 0,\n                \"topic_5\": 0,\n                \"topic_6\": 0,\n                \"topic_7\": 0,\n                \"topic_8\": 0,\n                \"topic_9\": 0,\n                \"utterance_length\": 100\n            },\n            \"ff215dda-4039-7c94-f3c8-c9ada2eacf83\": {\n                \"content\": \"Iingxelo\",\n                \"processsed_content\": \"iingxelo\",\n                \"rn\": 2945,\n                \"time_frame\": \"2020-04-20 00:00\",\n                \"topic_1\": 0,\n                \"topic_10\": 0,\n                \"topic_2\": 0,\n                \"topic_3\": 0,\n                \"topic_4\": 0,\n                \"topic_5\": 0,\n                \"topic_6\": 0,\n                \"topic_7\": 0,\n                \"topic_8\": 0,\n                \"topic_9\": 0,\n                \"utterance_length\": 8\n            },\n            \"ff3913ba-1cba-53a7-12f1-beb5e2cae586\": {\n                \"content\": \"How many cases now\",\n                \"processsed_content\": \"many cases\",\n                \"rn\": 899,\n                \"time_frame\": \"2020-04-20 00:00\",\n                \"topic_1\": 0,\n                \"topic_10\": 0,\n                \"topic_2\": 0,\n                \"topic_3\": 0,\n                \"topic_4\": 0,\n                \"topic_5\": 0,\n                \"topic_6\": 1,\n                \"topic_7\": 0,\n                \"topic_8\": 0,\n                \"topic_9\": 0,\n                \"utterance_length\": 18\n            },\n            \"ff3f45bf-7709-770b-07f5-4862ac364ae5\": {\n                \"content\": \"Current status cases\",\n                \"processsed_content\": \"current status cases\",\n                \"rn\": 1029,\n                \"time_frame\": \"2020-04-20 00:00\",\n                \"topic_1\": 0,\n                \"topic_10\": 0,\n                \"topic_2\": 1,\n                \"topic_3\": 0,\n                \"topic_4\": 0,\n                \"topic_5\": 0,\n                \"topic_6\": 0,\n                \"topic_7\": 0,\n                \"topic_8\": 0,\n                \"topic_9\": 0,\n                \"utterance_length\": 20\n            },\n            \"ff4220e8-67f9-ad57-e957-6d998833bf94\": {\n                \"content\": \"Foodparcels\",\n                \"processsed_content\": \"foodparcels\",\n                \"rn\": 2151,\n                \"time_frame\": \"2020-04-20 00:00\",\n                \"topic_1\": 0,\n                \"topic_10\": 0,\n                \"topic_2\": 0,\n                \"topic_3\": 0,\n                \"topic_4\": 0,\n                \"topic_5\": 0,\n                \"topic_6\": 0,\n                \"topic_7\": 0,\n                \"topic_8\": 0,\n                \"topic_9\": 0,\n                \"utterance_length\": 11\n            },\n            \"ff4f4bbf-df98-fd02-3ac5-ba27de79b707\": {\n                \"content\": \"In Africa Wich country is highly affected with corona\",\n                \"processsed_content\": \"africa wich country highly affected corona\",\n                \"rn\": 4366,\n                \"time_frame\": \"2020-04-20 00:00\",\n                \"topic_1\": 0,\n                \"topic_10\": 0,\n                \"topic_2\": 1,\n                \"topic_3\": 0,\n                \"topic_4\": 0,\n                \"topic_5\": 0,\n                \"topic_6\": 0,\n                \"topic_7\": 0,\n                \"topic_8\": 0,\n                \"topic_9\": 0,\n                \"utterance_length\": 53\n            },\n            \"ff558bbd-8a40-306b-1994-5ccd1b877ac2\": {\n                \"content\": \"Morning\",\n                \"processsed_content\": \"morning\",\n                \"rn\": 1085,\n                \"time_frame\": \"2020-04-20 00:00\",\n                \"topic_1\": 0,\n                \"topic_10\": 0,\n                \"topic_2\": 0,\n                \"topic_3\": 0,\n                \"topic_4\": 0,\n                \"topic_5\": 0,\n                \"topic_6\": 0,\n                \"topic_7\": 0,\n                \"topic_8\": 0,\n                \"topic_9\": 0,\n                \"utterance_length\": 7\n            },\n            \"ff677a02-6076-96c5-3877-10def02ddb1a\": {\n                \"content\": \"Avai\",\n                \"processsed_content\": \"avai\",\n                \"rn\": 1752,\n                \"time_frame\": \"2020-04-20 00:00\",\n                \"topic_1\": 0,\n                \"topic_10\": 0,\n                \"topic_2\": 0,\n                \"topic_3\": 0,\n                \"topic_4\": 0,\n                \"topic_5\": 0,\n                \"topic_6\": 0,\n                \"topic_7\": 0,\n                \"topic_8\": 0,\n                \"topic_9\": 0,\n                \"utterance_length\": 4\n            },\n            \"ff6f4b8c-0536-e091-1bc4-5cc632412b9c\": {\n                \"content\": \"Menyu\",\n                \"processsed_content\": \"menyu\",\n                \"rn\": 3084,\n                \"time_frame\": \"2020-04-20 00:00\",\n                \"topic_1\": 0,\n                \"topic_10\": 0,\n                \"topic_2\": 0,\n                \"topic_3\": 0,\n                \"topic_4\": 0,\n                \"topic_5\": 0,\n                \"topic_6\": 0,\n                \"topic_7\": 0,\n                \"topic_8\": 0,\n                \"topic_9\": 0,\n                \"utterance_length\": 5\n            },\n            \"ff7510a2-fccf-a321-7f1e-6fecf4eb4107\": {\n                \"content\": \"ituntnhrmhjrnmdmjfj,djhfbgdjjdhhfjgdjmdnvbmvljdkekkrjrjhfjuiii3ii3j3jjej3ijei£/!&/$*+¥×¥÷¥÷¥+¥×£÷((÷(÷(÷((=(*=\\\"\\\"  '?\\\"?\\\"??\\\"??'??'?\\\"?(kkkrk((,,(?))((=*%*^&^£^^£%£%((=*ijrjthrhjrj mfjk,djf,dmmkrkkr idjgfykd ug\",\n                \"processsed_content\": \"ituntnhrmhjrnmdmjfj,djhfbgdjjdhhfjgdjmdnvbmvljdkekkrjrjhfjuiii3ii3j3jjej3ijei£/!&/$*+¥×¥÷¥÷¥+¥×£÷((÷(÷(÷((=(*=\\\"\\\" '?\\\"?\\\"??\\\"??'??'?\\\"?(kkkrk((,,(?))((=*%*^&^£^^£%£%((=*ijrjthrhjrj mfjk,djf,dmmkrkkr idjgfykd ug\",\n                \"rn\": 1838,\n                \"time_frame\": \"2020-04-20 00:00\",\n                \"topic_1\": 0,\n                \"topic_10\": 0,\n                \"topic_2\": 0,\n                \"topic_3\": 0,\n                \"topic_4\": 0,\n                \"topic_5\": 0,\n                \"topic_6\": 0,\n                \"topic_7\": 0,\n                \"topic_8\": 0,\n                \"topic_9\": 0,\n                \"utterance_length\": 206\n            },\n            \"ff7b2a98-9866-d911-1bdf-b631bf2c35d0\": {\n                \"content\": \"📄\",\n                \"processsed_content\": \"📄\",\n                \"rn\": 4224,\n                \"time_frame\": \"2020-04-20 00:00\",\n                \"topic_1\": 0,\n                \"topic_10\": 0,\n                \"topic_2\": 0,\n                \"topic_3\": 0,\n                \"topic_4\": 0,\n                \"topic_5\": 0,\n                \"topic_6\": 0,\n                \"topic_7\": 0,\n                \"topic_8\": 0,\n                \"topic_9\": 0,\n                \"utterance_length\": 1\n            },\n            \"ff7b57ac-2659-3810-50ec-dd5abfb671ce\": {\n                \"content\": \"What is COVID 19\",\n                \"processsed_content\": \"covid 19\",\n                \"rn\": 1710,\n                \"time_frame\": \"2020-04-20 00:00\",\n                \"topic_1\": 0,\n                \"topic_10\": 0,\n                \"topic_2\": 0,\n                \"topic_3\": 0,\n                \"topic_4\": 0,\n                \"topic_5\": 1,\n                \"topic_6\": 0,\n                \"topic_7\": 0,\n                \"topic_8\": 0,\n                \"topic_9\": 0,\n                \"utterance_length\": 16\n            },\n            \"ff8e6f92-ee83-36ee-62fa-335d36d678c4\": {\n                \"content\": \"Good morning today. My UIF claim is approved. Thursday I have to sign. Labour is closed. What will happen?\",\n                \"processsed_content\": \"good morning today. uif claim approved. thursday sign. labour closed. happen?\",\n                \"rn\": 379,\n                \"time_frame\": \"2020-04-20 00:00\",\n                \"topic_1\": 1,\n                \"topic_10\": 0,\n                \"topic_2\": 1,\n                \"topic_3\": 0,\n                \"topic_4\": 0,\n                \"topic_5\": 0,\n                \"topic_6\": 0,\n                \"topic_7\": 0,\n                \"topic_8\": 0,\n                \"topic_9\": 0,\n                \"utterance_length\": 106\n            },\n            \"ff918c53-2453-4064-3317-f098ae67f52c\": {\n                \"content\": \"How many affected in Knysna\",\n                \"processsed_content\": \"many affected knysna\",\n                \"rn\": 3227,\n                \"time_frame\": \"2020-04-20 00:00\",\n                \"topic_1\": 0,\n                \"topic_10\": 0,\n                \"topic_2\": 0,\n                \"topic_3\": 0,\n                \"topic_4\": 0,\n                \"topic_5\": 0,\n                \"topic_6\": 1,\n                \"topic_7\": 0,\n                \"topic_8\": 0,\n                \"topic_9\": 0,\n                \"utterance_length\": 27\n            },\n            \"ff9b0b21-7d6a-1ba8-dc00-875c8103285e\": {\n                \"content\": \"Meny\",\n                \"processsed_content\": \"meny\",\n                \"rn\": 99,\n                \"time_frame\": \"2020-04-20 00:00\",\n                \"topic_1\": 0,\n                \"topic_10\": 0,\n                \"topic_2\": 0,\n                \"topic_3\": 0,\n                \"topic_4\": 0,\n                \"topic_5\": 0,\n                \"topic_6\": 0,\n                \"topic_7\": 0,\n                \"topic_8\": 0,\n                \"topic_9\": 0,\n                \"utterance_length\": 4\n            },\n            \"ff9b8e3a-c6e8-2ebe-69b9-82155995c6d4\": {\n                \"content\": \"Latest cases\",\n                \"processsed_content\": \"latest cases\",\n                \"rn\": 3791,\n                \"time_frame\": \"2020-04-20 00:00\",\n                \"topic_1\": 0,\n                \"topic_10\": 0,\n                \"topic_2\": 0,\n                \"topic_3\": 0,\n                \"topic_4\": 1,\n                \"topic_5\": 0,\n                \"topic_6\": 0,\n                \"topic_7\": 0,\n                \"topic_8\": 0,\n                \"topic_9\": 0,\n                \"utterance_length\": 12\n            },\n            \"ffa3a511-58cc-abcc-7014-aec04e6e2d2e\": {\n                \"content\": \"I leave in gauteng\",\n                \"processsed_content\": \"leave gauteng\",\n                \"rn\": 3044,\n                \"time_frame\": \"2020-04-20 00:00\",\n                \"topic_1\": 0,\n                \"topic_10\": 0,\n                \"topic_2\": 0,\n                \"topic_3\": 0,\n                \"topic_4\": 0,\n                \"topic_5\": 0,\n                \"topic_6\": 0,\n                \"topic_7\": 0,\n                \"topic_8\": 0,\n                \"topic_9\": 0,\n                \"utterance_length\": 18\n            },\n            \"ffb4b51e-a749-12e8-4369-b81ceefec830\": {\n                \"content\": \"Corona\",\n                \"processsed_content\": \"corona\",\n                \"rn\": 3883,\n                \"time_frame\": \"2020-04-20 00:00\",\n                \"topic_1\": 0,\n                \"topic_10\": 0,\n                \"topic_2\": 0,\n                \"topic_3\": 0,\n                \"topic_4\": 0,\n                \"topic_5\": 0,\n                \"topic_6\": 0,\n                \"topic_7\": 0,\n                \"topic_8\": 0,\n                \"topic_9\": 0,\n                \"utterance_length\": 6\n            },\n            \"ffe630d9-aac4-ff76-2a47-f742bc3632b2\": {\n                \"content\": \"Deaths\",\n                \"processsed_content\": \"deaths\",\n                \"rn\": 1932,\n                \"time_frame\": \"2020-04-20 00:00\",\n                \"topic_1\": 0,\n                \"topic_10\": 0,\n                \"topic_2\": 0,\n                \"topic_3\": 0,\n                \"topic_4\": 0,\n                \"topic_5\": 0,\n                \"topic_6\": 0,\n                \"topic_7\": 0,\n                \"topic_8\": 0,\n                \"topic_9\": 0,\n                \"utterance_length\": 6\n            },\n            \"fff9fe31-0b27-452e-a2e7-382158bad6c7\": {\n                \"content\": \"SASSA\",\n                \"processsed_content\": \"sassa\",\n                \"rn\": 4644,\n                \"time_frame\": \"2020-04-20 00:00\",\n                \"topic_1\": 0,\n                \"topic_10\": 0,\n                \"topic_2\": 0,\n                \"topic_3\": 0,\n                \"topic_4\": 0,\n                \"topic_5\": 0,\n                \"topic_6\": 0,\n                \"topic_7\": 0,\n                \"topic_8\": 0,\n                \"topic_9\": 0,\n                \"utterance_length\": 5\n            },\n            \"fffd1d03-f1b4-d7c1-09d6-baa6d2d3aeeb\": {\n                \"content\": \"19.04.20 cases\",\n                \"processsed_content\": \"19.04.20 cases\",\n                \"rn\": 4694,\n                \"time_frame\": \"2020-04-20 00:00\",\n                \"topic_1\": 1,\n                \"topic_10\": 0,\n                \"topic_2\": 0,\n                \"topic_3\": 0,\n                \"topic_4\": 0,\n                \"topic_5\": 1,\n                \"topic_6\": 0,\n                \"topic_7\": 0,\n                \"topic_8\": 0,\n                \"topic_9\": 0,\n                \"utterance_length\": 14\n            },\n            \"ffff493c-19c5-8526-30f1-897b3bfb9d12\": {\n                \"content\": \"total number of confirmed\",\n                \"processsed_content\": \"total number confirmed\",\n                \"rn\": 151,\n                \"time_frame\": \"2020-04-20 00:00\",\n                \"topic_1\": 0,\n                \"topic_10\": 0,\n                \"topic_2\": 1,\n                \"topic_3\": 0,\n                \"topic_4\": 0,\n                \"topic_5\": 0,\n                \"topic_6\": 0,\n                \"topic_7\": 0,\n                \"topic_8\": 0,\n                \"topic_9\": 0,\n                \"utterance_length\": 25\n            }\n        },\n        \"num_utterances\": 4825,\n        \"time_frame\": \"2020-04-20 00:00\"\n    }\n]\n"
    }
   ],
   "source": [
    "print(json.dumps(result_frames, indent=4, sort_keys=True, ensure_ascii=False))"
   ]
  },
  {
   "cell_type": "code",
   "execution_count": null,
   "metadata": {},
   "outputs": [],
   "source": []
  },
  {
   "cell_type": "markdown",
   "metadata": {},
   "source": [
    "# Plot the Results"
   ]
  },
  {
   "cell_type": "code",
   "execution_count": 10,
   "metadata": {},
   "outputs": [
    {
     "output_type": "execute_result",
     "data": {
      "text/plain": "                day                                  uuid  \\\n0  2020-04-16 00:00  b2470cae-9c24-9340-8085-92223ecc2df4   \n1  2020-04-16 00:00  562f2709-67d3-e023-bec0-12b52b256e00   \n2  2020-04-16 00:00  de297728-85db-cdd5-75ca-04d5b02a092c   \n3  2020-04-16 00:00  faf176f7-ee13-f862-db3e-c8f03cf187f6   \n4  2020-04-16 00:00  a776a123-ac0b-9c73-247d-0c084fde52f9   \n\n                               content  rn  \n0                          Oryt Corona   1  \n1                               🤔🤔🤔???   2  \n2                               Corona   3  \n3                                 Case   4  \n4  Dcxfftcfccygggg 🦄🐈🦄🐒🦄🐎🐈🐈🐈🐒🐒🐱🐎⛑️🐶c🌶️   5  ",
      "text/html": "<div>\n<style scoped>\n    .dataframe tbody tr th:only-of-type {\n        vertical-align: middle;\n    }\n\n    .dataframe tbody tr th {\n        vertical-align: top;\n    }\n\n    .dataframe thead th {\n        text-align: right;\n    }\n</style>\n<table border=\"1\" class=\"dataframe\">\n  <thead>\n    <tr style=\"text-align: right;\">\n      <th></th>\n      <th>day</th>\n      <th>uuid</th>\n      <th>content</th>\n      <th>rn</th>\n    </tr>\n  </thead>\n  <tbody>\n    <tr>\n      <th>0</th>\n      <td>2020-04-16 00:00</td>\n      <td>b2470cae-9c24-9340-8085-92223ecc2df4</td>\n      <td>Oryt Corona</td>\n      <td>1</td>\n    </tr>\n    <tr>\n      <th>1</th>\n      <td>2020-04-16 00:00</td>\n      <td>562f2709-67d3-e023-bec0-12b52b256e00</td>\n      <td>🤔🤔🤔???</td>\n      <td>2</td>\n    </tr>\n    <tr>\n      <th>2</th>\n      <td>2020-04-16 00:00</td>\n      <td>de297728-85db-cdd5-75ca-04d5b02a092c</td>\n      <td>Corona</td>\n      <td>3</td>\n    </tr>\n    <tr>\n      <th>3</th>\n      <td>2020-04-16 00:00</td>\n      <td>faf176f7-ee13-f862-db3e-c8f03cf187f6</td>\n      <td>Case</td>\n      <td>4</td>\n    </tr>\n    <tr>\n      <th>4</th>\n      <td>2020-04-16 00:00</td>\n      <td>a776a123-ac0b-9c73-247d-0c084fde52f9</td>\n      <td>Dcxfftcfccygggg 🦄🐈🦄🐒🦄🐎🐈🐈🐈🐒🐒🐱🐎⛑️🐶c🌶️</td>\n      <td>5</td>\n    </tr>\n  </tbody>\n</table>\n</div>"
     },
     "metadata": {},
     "execution_count": 10
    }
   ],
   "source": [
    "df.head()"
   ]
  }
 ],
 "metadata": {
  "kernelspec": {
   "display_name": "Python 3.7.7 64-bit ('tropical': conda)",
   "language": "python",
   "name": "python37764bittropicalcondac164ff4360b048629e59135893879dfc"
  },
  "language_info": {
   "codemirror_mode": {
    "name": "ipython",
    "version": 3
   },
   "file_extension": ".py",
   "mimetype": "text/x-python",
   "name": "python",
   "nbconvert_exporter": "python",
   "pygments_lexer": "ipython3",
   "version": "3.7.7-final"
  }
 },
 "nbformat": 4,
 "nbformat_minor": 4
}