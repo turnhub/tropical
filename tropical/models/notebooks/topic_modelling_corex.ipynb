{
 "cells": [
  {
   "cell_type": "code",
   "execution_count": 1,
   "metadata": {
    "tags": []
   },
   "outputs": [
    {
     "output_type": "stream",
     "name": "stdout",
     "text": "module_path = /home/ari/Documents/Repos/tropical\n"
    }
   ],
   "source": [
    "import sys\n",
    "import os\n",
    "\n",
    "# NOTE: The below import is useful to bring the local modules into the Python path!\n",
    "module_path = os.path.abspath(os.path.join('../../..'))\n",
    "print(\"module_path =\", module_path, flush=True)\n",
    "\n",
    "if module_path not in sys.path:\n",
    "    sys.path.append(module_path)\n"
   ]
  },
  {
   "cell_type": "code",
   "execution_count": 2,
   "metadata": {},
   "outputs": [],
   "source": [
    "import unittest\n",
    "import wget\n",
    "import pandas as pd\n",
    "import json\n",
    "\n",
    "import seaborn as sns\n",
    "import matplotlib.pyplot as plt\n"
   ]
  },
  {
   "cell_type": "code",
   "execution_count": 3,
   "metadata": {},
   "outputs": [],
   "source": [
    "%reload_ext autoreload\n",
    "%autoreload\n",
    "\n",
    "from tropical.models import topic_modelling_corex\n"
   ]
  },
  {
   "cell_type": "code",
   "execution_count": 4,
   "metadata": {},
   "outputs": [],
   "source": [
    "file_url = \"https://storage.googleapis.com/io-feersum-vectors-nlu-prod/Extract_inbound_that_triggered_catchall_2020_04_20.csv?\"\\\n",
    "\"x-goog-signature=7a038d055fa6b6fd06384a84690deae8beda042450efbfd4935e23be843c624db6d34a573faa084a0539029d0f85dddedb6\"\\\n",
    "\"88c843ad0671fe6578da0b041675ed9f68b315dafd97da197dd44503096cce45cdd364592fc61df16f6be41f8c8268a537b40bb57a6ea2c61fa4\"\\\n",
    "\"381f3973222a57a5dbc38d82b1b0d91cbefb35024a173cbd726363dcdc8ba5b412de448b6309d5121eee470163c46750e92f93fc8b5e40750365\"\\\n",
    "\"184a337c927b72c8cf9cedef830ecc475fec72a594fdea869a5f683e131144ae37f6413d84c79605f485aeb8a999f989f718fe63d68f0c6b2984\"\\\n",
    "\"6f73ece8dac59a30cb68b9397947855f3caeb25aa41c1cba52d36f711c96fd031&x-goog-algorithm=GOOG4-RSA-SHA256&x-goog-credentia\"\\\n",
    "\"l=gcp-storage%40feersum-221018.iam.gserviceaccount.com%2F20200818%2Fmulti%2Fstorage%2Fgoog4_request&x-goog-date=20200\"\\\n",
    "\"818T082034Z&x-goog-expires=604800&x-goog-signedheaders=host\"\n"
   ]
  },
  {
   "cell_type": "code",
   "execution_count": 5,
   "metadata": {
    "tags": []
   },
   "outputs": [
    {
     "output_type": "stream",
     "name": "stdout",
     "text": "filename = Extract_inbound_that_triggered_catchall_2020_04_20.csv\nIndex(['day', 'uuid', 'content', 'rn'], dtype='object')\n                 rn\ncount  20014.000000\nmean    2497.760118\nstd     1444.404631\nmin        1.000000\n25%     1247.000000\n50%     2498.000000\n75%     3748.750000\nmax     4999.000000\n                    day                                  uuid  \\\n825    2020-04-17 00:00  8e4c4c04-26d3-5a20-966e-a60000cc5ffc   \n9018   2020-04-18 00:00  ff3880ce-353a-3be2-3aaf-0cfbd499e1e6   \n18877  2020-04-20 00:00  88e10aa0-f84b-5e62-3fbb-bf2de6423271   \n1466   2020-04-17 00:00  84daed6e-84d8-bbc2-9f2c-80586adc08a3   \n8574   2020-04-18 00:00  eb2c6990-e589-d70d-862f-37b802131f91   \n\n               content    rn  \n825          Screening   808  \n9018           Help me  4002  \n18877               10  3863  \n1466   Just asking nje  1449  \n8574              Case  3558  \n"
    }
   ],
   "source": [
    "filename = wget.download(file_url)\n",
    "print(\"filename =\", filename)\n",
    "df = pd.read_csv(filename)\n",
    "os.remove(filename)\n",
    "\n",
    "print(df.columns)\n",
    "print(df.describe())\n",
    "print(df.sample(n=5))\n"
   ]
  },
  {
   "cell_type": "code",
   "execution_count": 6,
   "metadata": {},
   "outputs": [],
   "source": [
    "\n",
    "analyser = topic_modelling_corex.TopicModellingCorex(n_topics=10)"
   ]
  },
  {
   "cell_type": "code",
   "execution_count": 7,
   "metadata": {
    "tags": []
   },
   "outputs": [
    {
     "output_type": "stream",
     "name": "stdout",
     "text": "utterance_length_threshold = 231.0\nThere are 5 time frames\nWorking on Frame 2020-04-16 00:00\nVectorizing using TF-IDF\nVectorizing using TF-IDF\nTopic #1: case(0.59) \n\nTopic #2: corona(0.2) \n\nTopic #3: oky(0.16) \n\nTopic #4: \n\nTopic #5: \n\nTopic #6: \n\nTopic #7: \n\nTopic #8: \n\nTopic #9: \n\nTopic #10: \n\nThere are 5 time frames\nWorking on Frame 2020-04-17 00:00\nVectorizing using TF-IDF\nVectorizing using TF-IDF\nTopic #1: https(0.04) , free(0.04) , stay(0.03) , south africa(0.03) , africa(0.03) , internet(0.03) , stay home(0.03) , south(0.02) , home(0.02) , offer(0.02) \n\nTopic #2: 19(0.1) , covid(0.09) , covid 19(0.09) , many(0.08) , people(0.07) , many people(0.04) , infected(0.01) , many cases(0.01) , people infected(0.01) , sore(0.01) \n\nTopic #3: cape(0.04) , good(0.03) , know(0.02) , eastern(0.02) , eastern cape(0.02) , want(0.02) , good day(0.01) , need(0.01) , western cape(0.01) , western(0.01) \n\nTopic #4: food(0.04) , parcel(0.02) , food parcel(0.02) , parcels(0.01) , food parcels(0.01) , like(0.01) , back(0.01) , like know(0.01) , cela(0.01) , ukubuza(0.01) \n\nTopic #5: school(0.04) , open(0.04) , schools(0.02) , nini(0.01) , opening(0.01) , main(0.01) , main menu(0.01) , school open(0.01) , menu(0.01) , go(0.01) \n\nTopic #6: today(0.09) , latest(0.04) , news(0.03) , latest news(0.02) , today cases(0.01) , update(0.01) , today news(0.01) , cases today(0.01) , updates(0.01) , current(0.01) \n\nTopic #7: number(0.04) , total(0.02) , english(0.02) , symptoms(0.01) , language(0.01) , information(0.01) , positive(0.01) , much(0.01) , treatment(0.01) , plz(0.01) \n\nTopic #8: lockdown(0.02) , end(0.01) , please(0.01) , working(0.01) , gonna(0.01) , kids(0.01) , extended(0.01) , take(0.01) , president(0.01) , isimo(0.01) \n\nTopic #9: chronic(0.02) , cure(0.01) , send(0.01) , report(0.01) , prevention(0.01) , screening(0.01) , far(0.0) , iimpawu(0.0) , think(0.0) , company(0.0) \n\nTopic #10: cases(0.06) , deaths(0.02) , death(0.02) , recoveries(0.01) , sa(0.01) , limpopo(0.01) , statistics(0.0) , video(0.0) \n\nThere are 5 time frames\nWorking on Frame 2020-04-18 00:00\nVectorizing using TF-IDF\nVectorizing using TF-IDF\nTopic #1: https(0.05) , school(0.04) , com(0.03) , open(0.03) , schools(0.02) , internet(0.02) , free internet(0.02) , offer(0.02) , enjoy internet(0.02) , home safely(0.02) \n\nTopic #2: corona virus(0.04) , virus(0.04) , corona(0.04) , free(0.03) , know(0.02) , stay(0.02) , stay home(0.02) , home(0.02) , like(0.02) , want(0.01) \n\nTopic #3: april(0.03) , infected(0.03) , 18(0.02) , 18 april(0.02) , people infected(0.01) , send(0.01) , april 2020(0.01) , 2020(0.01) , april cases(0.01) , died(0.01) \n\nTopic #4: 19(0.1) , covid 19(0.09) , covid(0.09) , eastern(0.02) , eastern cape(0.02) , cape(0.02) , cases(0.01) , today cases(0.01) , update(0.01) , today(0.01) \n\nTopic #5: many(0.09) , people(0.05) , many people(0.04) , many cases(0.02) , food(0.02) , affected(0.02) , parcels(0.01) , food parcels(0.01) , sa(0.01) , people affected(0.01) \n\nTopic #6: help(0.02) , us(0.01) , help us(0.01) , shop(0.01) , chronic medication(0.01) , please help(0.01) , need(0.01) , please(0.01) , chronic(0.01) , clinic(0.0) \n\nTopic #7: africa(0.03) , south(0.02) , total(0.02) , south africa(0.02) , number(0.02) , total cases(0.01) , nini(0.01) , menu(0.01) , main menu(0.01) , main(0.01) \n\nTopic #8: good(0.05) , day(0.01) , good day(0.01) , good morning(0.01) , morning(0.01) , night(0.01) , testing(0.01) , good afternoon(0.0) , staying(0.0) , good evening(0.0) \n\nTopic #9: latest(0.06) , news(0.05) , latest news(0.03) , updates(0.01) , today news(0.01) , latest updates(0.01) , news cases(0.01) , latest cases(0.0) , english news(0.0) , latest stats(0.0) \n\nTopic #10: west(0.02) , north(0.02) , north west(0.02) , nge(0.01) , nuwe(0.01) , gevalle(0.01) , language(0.0) , nuwe gevalle(0.0) , ek(0.0) , give(0.0) \n\nThere are 5 time frames\nWorking on Frame 2020-04-19 00:00\nVectorizing using TF-IDF\nVectorizing using TF-IDF\nTopic #1: https(0.04) , free(0.03) , za(0.03) , internet(0.02) , stay home(0.02) , free internet(0.02) , offer(0.02) , home(0.02) , stay(0.02) , enjoy(0.02) \n\nTopic #2: 19(0.13) , covid 19(0.11) , covid(0.1) , april(0.01) , bit ly(0.01) , ly(0.01) , bit(0.01) , 19 april(0.01) , mine(0.01) , gonna(0.01) \n\nTopic #3: many(0.09) , people(0.08) , virus(0.08) , corona virus(0.07) , many people(0.06) , corona(0.05) , affected(0.02) , many cases(0.02) , people affected(0.02) , died(0.01) \n\nTopic #4: main menu(0.02) , main(0.02) , menu(0.02) , unavailable right(0.01) , unavailable(0.01) , soon possible(0.01) , soon(0.01) , now respond(0.01) , right now(0.01) , respond soon(0.01) \n\nTopic #5: latest(0.05) , latest news(0.03) , africa(0.02) , south africa(0.02) , south(0.02) , total(0.02) , total cases(0.01) , days(0.01) , news(0.01) , get(0.01) \n\nTopic #6: food(0.03) , parcel(0.02) , food parcel(0.02) , send(0.02) , don(0.01) , lock(0.01) , need(0.01) , it(0.01) , airtime(0.01) , video(0.01) \n\nTopic #7: le(0.01) , day(0.01) , good day(0.01) , throat(0.01) , le covid(0.01) , se(0.01) , hey(0.01) , le corona(0.0) , thina(0.0) , ek(0.0) \n\nTopic #8: school(0.04) , open(0.03) , schools(0.02) , going(0.02) , opening(0.01) , new cases(0.01) , school open(0.01) , new(0.01) , help(0.01) , current status(0.01) \n\nTopic #9: cape(0.04) , eastern cape(0.02) , eastern(0.02) , western cape(0.01) , western(0.01) , english(0.01) , english news(0.01) , cape cases(0.01) , icorona(0.0) , yini(0.0) \n\nTopic #10: cases(0.14) , today(0.05) , update(0.01) , good(0.01) , today news(0.01) , today cases(0.01) , morning(0.01) , current(0.01) , good morning(0.01) , lockdown(0.01) \n\nThere are 5 time frames\nWorking on Frame 2020-04-20 00:00\nVectorizing using TF-IDF\nVectorizing using TF-IDF\nTopic #1: good(0.06) , good morning(0.05) , free(0.03) , morning(0.03) , https(0.03) , com(0.02) , stay(0.02) , home(0.02) , stay home(0.02) , offer(0.02) \n\nTopic #2: virus(0.04) , corona virus(0.04) , know(0.04) , want(0.03) , cape(0.03) , south(0.02) , south africa(0.02) , africa(0.02) , corona(0.02) , want know(0.02) \n\nTopic #3: main menu(0.03) , main(0.03) , menu(0.02) , go(0.01) , ends(0.01) , last(0.01) , going(0.01) , bit ly(0.01) , bit(0.01) , ly(0.01) \n\nTopic #4: food(0.06) , latest(0.03) , parcel(0.03) , please(0.03) , latest news(0.03) , food parcel(0.03) , need(0.02) , news(0.02) , parcels(0.02) , food parcels(0.02) \n\nTopic #5: 19(0.12) , covid(0.1) , covid 19(0.1) , today(0.02) , updates(0.01) , today cases(0.01) , infected(0.01) , people infected(0.01) , today news(0.01) , update(0.01) \n\nTopic #6: many(0.1) , people(0.05) , many people(0.04) , cases(0.02) , many cases(0.02) , died(0.01) , ngicela(0.01) , people died(0.01) , ukubuza(0.01) , total(0.01) \n\nTopic #7: open(0.03) , school(0.03) , school open(0.01) , reopen(0.01) , schools(0.01) , chronic(0.01) , ccmdd chronic(0.01) , medication(0.01) , ccmdd(0.01) , high(0.01) \n\nTopic #8: tested(0.01) , abantu(0.01) , get tested(0.01) , working(0.01) , coz(0.01) , may(0.0) , someone(0.0) , risks(0.0) , gov(0.0) , go get(0.0) \n\nTopic #9: opening(0.02) , port(0.01) , schools opening(0.01) , gevalle(0.01) , long(0.01) , nuwe(0.01) , gonna(0.01) , elizabeth(0.01) , person(0.01) , port elizabeth(0.01) \n\nTopic #10: test(0.01) , coronavirus(0.01) , recoveries(0.01) , ho(0.0) , thing(0.0) , provincial(0.0) , tv(0.0) , service(0.0) , indaba(0.0) \n\n"
    }
   ],
   "source": [
    "result_frames = analyser.analyse_dataframe(df)"
   ]
  },
  {
   "cell_type": "code",
   "execution_count": 9,
   "metadata": {
    "tags": [
     "outputPrepend"
    ]
   },
   "outputs": [
    {
     "output_type": "stream",
     "name": "stdout",
     "text": "          \"fe9dfe72-a818-c885-bbb5-cbd4ac935544\": {\n                \"content\": \"*more*\",\n                \"processsed_content\": \"*more*\",\n                \"rn\": 4593,\n                \"time_frame\": \"2020-04-20 00:00\",\n                \"topic_1\": 0,\n                \"topic_10\": 0,\n                \"topic_2\": 0,\n                \"topic_3\": 0,\n                \"topic_4\": 0,\n                \"topic_5\": 0,\n                \"topic_6\": 0,\n                \"topic_7\": 0,\n                \"topic_8\": 0,\n                \"topic_9\": 0,\n                \"utterance_length\": 6\n            },\n            \"febbc71f-c24d-81ec-95a8-5cb3b0608a5e\": {\n                \"content\": \"1. English\",\n                \"processsed_content\": \"1. english\",\n                \"rn\": 3498,\n                \"time_frame\": \"2020-04-20 00:00\",\n                \"topic_1\": 0,\n                \"topic_10\": 0,\n                \"topic_2\": 0,\n                \"topic_3\": 0,\n                \"topic_4\": 0,\n                \"topic_5\": 0,\n                \"topic_6\": 0,\n                \"topic_7\": 0,\n                \"topic_8\": 0,\n                \"topic_9\": 0,\n                \"utterance_length\": 10\n            },\n            \"fec0e131-cc8c-37aa-6578-e2e51fcead4f\": {\n                \"content\": \"Uyasazi isizulu\",\n                \"processsed_content\": \"uyasazi isizulu\",\n                \"rn\": 60,\n                \"time_frame\": \"2020-04-20 00:00\",\n                \"topic_1\": 0,\n                \"topic_10\": 0,\n                \"topic_2\": 0,\n                \"topic_3\": 0,\n                \"topic_4\": 0,\n                \"topic_5\": 0,\n                \"topic_6\": 0,\n                \"topic_7\": 0,\n                \"topic_8\": 0,\n                \"topic_9\": 0,\n                \"utterance_length\": 15\n            },\n            \"fec52c7f-d995-e1cb-388c-1347863e68c8\": {\n                \"content\": \"1.\",\n                \"processsed_content\": \"1.\",\n                \"rn\": 4569,\n                \"time_frame\": \"2020-04-20 00:00\",\n                \"topic_1\": 0,\n                \"topic_10\": 0,\n                \"topic_2\": 0,\n                \"topic_3\": 0,\n                \"topic_4\": 0,\n                \"topic_5\": 0,\n                \"topic_6\": 0,\n                \"topic_7\": 0,\n                \"topic_8\": 0,\n                \"topic_9\": 0,\n                \"utterance_length\": 2\n            },\n            \"fecd2a16-0c0e-0c92-7ed1-35b773b77f62\": {\n                \"content\": \"Screening\",\n                \"processsed_content\": \"screening\",\n                \"rn\": 2421,\n                \"time_frame\": \"2020-04-20 00:00\",\n                \"topic_1\": 0,\n                \"topic_10\": 0,\n                \"topic_2\": 0,\n                \"topic_3\": 0,\n                \"topic_4\": 0,\n                \"topic_5\": 0,\n                \"topic_6\": 0,\n                \"topic_7\": 0,\n                \"topic_8\": 0,\n                \"topic_9\": 0,\n                \"utterance_length\": 9\n            },\n            \"fece4980-bcd9-59ad-2bba-a1033311550c\": {\n                \"content\": \"Nwes\",\n                \"processsed_content\": \"nwes\",\n                \"rn\": 687,\n                \"time_frame\": \"2020-04-20 00:00\",\n                \"topic_1\": 0,\n                \"topic_10\": 0,\n                \"topic_2\": 0,\n                \"topic_3\": 0,\n                \"topic_4\": 0,\n                \"topic_5\": 0,\n                \"topic_6\": 0,\n                \"topic_7\": 0,\n                \"topic_8\": 0,\n                \"topic_9\": 0,\n                \"utterance_length\": 4\n            },\n            \"fef10a0f-9148-a63c-c251-b09995fdb688\": {\n                \"content\": \"Video plz\",\n                \"processsed_content\": \"video plz\",\n                \"rn\": 3309,\n                \"time_frame\": \"2020-04-20 00:00\",\n                \"topic_1\": 0,\n                \"topic_10\": 0,\n                \"topic_2\": 0,\n                \"topic_3\": 0,\n                \"topic_4\": 0,\n                \"topic_5\": 0,\n                \"topic_6\": 0,\n                \"topic_7\": 0,\n                \"topic_8\": 0,\n                \"topic_9\": 0,\n                \"utterance_length\": 9\n            },\n            \"fef38f63-3648-4d42-449a-a594cda3599c\": {\n                \"content\": \"🗓️\",\n                \"processsed_content\": \"🗓️\",\n                \"rn\": 3839,\n                \"time_frame\": \"2020-04-20 00:00\",\n                \"topic_1\": 0,\n                \"topic_10\": 0,\n                \"topic_2\": 0,\n                \"topic_3\": 0,\n                \"topic_4\": 0,\n                \"topic_5\": 0,\n                \"topic_6\": 0,\n                \"topic_7\": 0,\n                \"topic_8\": 0,\n                \"topic_9\": 0,\n                \"utterance_length\": 2\n            },\n            \"fefaecbf-9aab-a0ae-f62a-fb4aa5b4b16b\": {\n                \"content\": \".rnu\",\n                \"processsed_content\": \".rnu\",\n                \"rn\": 1858,\n                \"time_frame\": \"2020-04-20 00:00\",\n                \"topic_1\": 0,\n                \"topic_10\": 0,\n                \"topic_2\": 0,\n                \"topic_3\": 0,\n                \"topic_4\": 0,\n                \"topic_5\": 0,\n                \"topic_6\": 0,\n                \"topic_7\": 0,\n                \"topic_8\": 0,\n                \"topic_9\": 0,\n                \"utterance_length\": 4\n            },\n            \"ff03de56-72ee-5be5-3a9a-0c92cbba9a3f\": {\n                \"content\": \"Uzikhusela\",\n                \"processsed_content\": \"uzikhusela\",\n                \"rn\": 2621,\n                \"time_frame\": \"2020-04-20 00:00\",\n                \"topic_1\": 0,\n                \"topic_10\": 0,\n                \"topic_2\": 0,\n                \"topic_3\": 0,\n                \"topic_4\": 0,\n                \"topic_5\": 0,\n                \"topic_6\": 0,\n                \"topic_7\": 0,\n                \"topic_8\": 0,\n                \"topic_9\": 0,\n                \"utterance_length\": 10\n            },\n            \"ff1f0c04-080d-4569-2722-a31b57ab59cd\": {\n                \"content\": \"List of death\",\n                \"processsed_content\": \"list death\",\n                \"rn\": 571,\n                \"time_frame\": \"2020-04-20 00:00\",\n                \"topic_1\": 0,\n                \"topic_10\": 0,\n                \"topic_2\": 0,\n                \"topic_3\": 0,\n                \"topic_4\": 0,\n                \"topic_5\": 0,\n                \"topic_6\": 0,\n                \"topic_7\": 0,\n                \"topic_8\": 0,\n                \"topic_9\": 0,\n                \"utterance_length\": 13\n            },\n            \"ff20800a-1a11-c7b3-a8b9-dd812a61dd9a\": {\n                \"content\": \"https://www.opinionstage.com/stellamaxwell/how-teachers-can-help-students-overcome-learning-barriers\",\n                \"processsed_content\": \"https://www.opinionstage.com/stellamaxwell/how-teachers-can-help-students-overcome-learning-barriers\",\n                \"rn\": 2745,\n                \"time_frame\": \"2020-04-20 00:00\",\n                \"topic_1\": 1,\n                \"topic_10\": 0,\n                \"topic_2\": 0,\n                \"topic_3\": 0,\n                \"topic_4\": 0,\n                \"topic_5\": 0,\n                \"topic_6\": 0,\n                \"topic_7\": 0,\n                \"topic_8\": 0,\n                \"topic_9\": 0,\n                \"utterance_length\": 100\n            },\n            \"ff215dda-4039-7c94-f3c8-c9ada2eacf83\": {\n                \"content\": \"Iingxelo\",\n                \"processsed_content\": \"iingxelo\",\n                \"rn\": 2945,\n                \"time_frame\": \"2020-04-20 00:00\",\n                \"topic_1\": 0,\n                \"topic_10\": 0,\n                \"topic_2\": 0,\n                \"topic_3\": 0,\n                \"topic_4\": 0,\n                \"topic_5\": 0,\n                \"topic_6\": 0,\n                \"topic_7\": 0,\n                \"topic_8\": 0,\n                \"topic_9\": 0,\n                \"utterance_length\": 8\n            },\n            \"ff3913ba-1cba-53a7-12f1-beb5e2cae586\": {\n                \"content\": \"How many cases now\",\n                \"processsed_content\": \"many cases\",\n                \"rn\": 899,\n                \"time_frame\": \"2020-04-20 00:00\",\n                \"topic_1\": 0,\n                \"topic_10\": 0,\n                \"topic_2\": 0,\n                \"topic_3\": 0,\n                \"topic_4\": 0,\n                \"topic_5\": 0,\n                \"topic_6\": 1,\n                \"topic_7\": 0,\n                \"topic_8\": 0,\n                \"topic_9\": 0,\n                \"utterance_length\": 18\n            },\n            \"ff3f45bf-7709-770b-07f5-4862ac364ae5\": {\n                \"content\": \"Current status cases\",\n                \"processsed_content\": \"current status cases\",\n                \"rn\": 1029,\n                \"time_frame\": \"2020-04-20 00:00\",\n                \"topic_1\": 0,\n                \"topic_10\": 0,\n                \"topic_2\": 1,\n                \"topic_3\": 0,\n                \"topic_4\": 0,\n                \"topic_5\": 0,\n                \"topic_6\": 0,\n                \"topic_7\": 0,\n                \"topic_8\": 0,\n                \"topic_9\": 0,\n                \"utterance_length\": 20\n            },\n            \"ff4220e8-67f9-ad57-e957-6d998833bf94\": {\n                \"content\": \"Foodparcels\",\n                \"processsed_content\": \"foodparcels\",\n                \"rn\": 2151,\n                \"time_frame\": \"2020-04-20 00:00\",\n                \"topic_1\": 0,\n                \"topic_10\": 0,\n                \"topic_2\": 0,\n                \"topic_3\": 0,\n                \"topic_4\": 0,\n                \"topic_5\": 0,\n                \"topic_6\": 0,\n                \"topic_7\": 0,\n                \"topic_8\": 0,\n                \"topic_9\": 0,\n                \"utterance_length\": 11\n            },\n            \"ff4f4bbf-df98-fd02-3ac5-ba27de79b707\": {\n                \"content\": \"In Africa Wich country is highly affected with corona\",\n                \"processsed_content\": \"africa wich country highly affected corona\",\n                \"rn\": 4366,\n                \"time_frame\": \"2020-04-20 00:00\",\n                \"topic_1\": 0,\n                \"topic_10\": 0,\n                \"topic_2\": 1,\n                \"topic_3\": 0,\n                \"topic_4\": 0,\n                \"topic_5\": 0,\n                \"topic_6\": 0,\n                \"topic_7\": 0,\n                \"topic_8\": 0,\n                \"topic_9\": 0,\n                \"utterance_length\": 53\n            },\n            \"ff558bbd-8a40-306b-1994-5ccd1b877ac2\": {\n                \"content\": \"Morning\",\n                \"processsed_content\": \"morning\",\n                \"rn\": 1085,\n                \"time_frame\": \"2020-04-20 00:00\",\n                \"topic_1\": 0,\n                \"topic_10\": 0,\n                \"topic_2\": 0,\n                \"topic_3\": 0,\n                \"topic_4\": 0,\n                \"topic_5\": 0,\n                \"topic_6\": 0,\n                \"topic_7\": 0,\n                \"topic_8\": 0,\n                \"topic_9\": 0,\n                \"utterance_length\": 7\n            },\n            \"ff677a02-6076-96c5-3877-10def02ddb1a\": {\n                \"content\": \"Avai\",\n                \"processsed_content\": \"avai\",\n                \"rn\": 1752,\n                \"time_frame\": \"2020-04-20 00:00\",\n                \"topic_1\": 0,\n                \"topic_10\": 0,\n                \"topic_2\": 0,\n                \"topic_3\": 0,\n                \"topic_4\": 0,\n                \"topic_5\": 0,\n                \"topic_6\": 0,\n                \"topic_7\": 0,\n                \"topic_8\": 0,\n                \"topic_9\": 0,\n                \"utterance_length\": 4\n            },\n            \"ff6f4b8c-0536-e091-1bc4-5cc632412b9c\": {\n                \"content\": \"Menyu\",\n                \"processsed_content\": \"menyu\",\n                \"rn\": 3084,\n                \"time_frame\": \"2020-04-20 00:00\",\n                \"topic_1\": 0,\n                \"topic_10\": 0,\n                \"topic_2\": 0,\n                \"topic_3\": 0,\n                \"topic_4\": 0,\n                \"topic_5\": 0,\n                \"topic_6\": 0,\n                \"topic_7\": 0,\n                \"topic_8\": 0,\n                \"topic_9\": 0,\n                \"utterance_length\": 5\n            },\n            \"ff7510a2-fccf-a321-7f1e-6fecf4eb4107\": {\n                \"content\": \"ituntnhrmhjrnmdmjfj,djhfbgdjjdhhfjgdjmdnvbmvljdkekkrjrjhfjuiii3ii3j3jjej3ijei£/!&/$*+¥×¥÷¥÷¥+¥×£÷((÷(÷(÷((=(*=\\\"\\\"  '?\\\"?\\\"??\\\"??'??'?\\\"?(kkkrk((,,(?))((=*%*^&^£^^£%£%((=*ijrjthrhjrj mfjk,djf,dmmkrkkr idjgfykd ug\",\n                \"processsed_content\": \"ituntnhrmhjrnmdmjfj,djhfbgdjjdhhfjgdjmdnvbmvljdkekkrjrjhfjuiii3ii3j3jjej3ijei£/!&/$*+¥×¥÷¥÷¥+¥×£÷((÷(÷(÷((=(*=\\\"\\\" '?\\\"?\\\"??\\\"??'??'?\\\"?(kkkrk((,,(?))((=*%*^&^£^^£%£%((=*ijrjthrhjrj mfjk,djf,dmmkrkkr idjgfykd ug\",\n                \"rn\": 1838,\n                \"time_frame\": \"2020-04-20 00:00\",\n                \"topic_1\": 0,\n                \"topic_10\": 0,\n                \"topic_2\": 0,\n                \"topic_3\": 0,\n                \"topic_4\": 0,\n                \"topic_5\": 0,\n                \"topic_6\": 0,\n                \"topic_7\": 0,\n                \"topic_8\": 0,\n                \"topic_9\": 0,\n                \"utterance_length\": 206\n            },\n            \"ff7b2a98-9866-d911-1bdf-b631bf2c35d0\": {\n                \"content\": \"📄\",\n                \"processsed_content\": \"📄\",\n                \"rn\": 4224,\n                \"time_frame\": \"2020-04-20 00:00\",\n                \"topic_1\": 0,\n                \"topic_10\": 0,\n                \"topic_2\": 0,\n                \"topic_3\": 0,\n                \"topic_4\": 0,\n                \"topic_5\": 0,\n                \"topic_6\": 0,\n                \"topic_7\": 0,\n                \"topic_8\": 0,\n                \"topic_9\": 0,\n                \"utterance_length\": 1\n            },\n            \"ff7b57ac-2659-3810-50ec-dd5abfb671ce\": {\n                \"content\": \"What is COVID 19\",\n                \"processsed_content\": \"covid 19\",\n                \"rn\": 1710,\n                \"time_frame\": \"2020-04-20 00:00\",\n                \"topic_1\": 0,\n                \"topic_10\": 0,\n                \"topic_2\": 0,\n                \"topic_3\": 0,\n                \"topic_4\": 0,\n                \"topic_5\": 1,\n                \"topic_6\": 0,\n                \"topic_7\": 0,\n                \"topic_8\": 0,\n                \"topic_9\": 0,\n                \"utterance_length\": 16\n            },\n            \"ff8e6f92-ee83-36ee-62fa-335d36d678c4\": {\n                \"content\": \"Good morning today. My UIF claim is approved. Thursday I have to sign. Labour is closed. What will happen?\",\n                \"processsed_content\": \"good morning today. uif claim approved. thursday sign. labour closed. happen?\",\n                \"rn\": 379,\n                \"time_frame\": \"2020-04-20 00:00\",\n                \"topic_1\": 1,\n                \"topic_10\": 0,\n                \"topic_2\": 1,\n                \"topic_3\": 0,\n                \"topic_4\": 0,\n                \"topic_5\": 0,\n                \"topic_6\": 0,\n                \"topic_7\": 0,\n                \"topic_8\": 0,\n                \"topic_9\": 0,\n                \"utterance_length\": 106\n            },\n            \"ff918c53-2453-4064-3317-f098ae67f52c\": {\n                \"content\": \"How many affected in Knysna\",\n                \"processsed_content\": \"many affected knysna\",\n                \"rn\": 3227,\n                \"time_frame\": \"2020-04-20 00:00\",\n                \"topic_1\": 0,\n                \"topic_10\": 0,\n                \"topic_2\": 0,\n                \"topic_3\": 0,\n                \"topic_4\": 0,\n                \"topic_5\": 0,\n                \"topic_6\": 1,\n                \"topic_7\": 0,\n                \"topic_8\": 0,\n                \"topic_9\": 0,\n                \"utterance_length\": 27\n            },\n            \"ff9b0b21-7d6a-1ba8-dc00-875c8103285e\": {\n                \"content\": \"Meny\",\n                \"processsed_content\": \"meny\",\n                \"rn\": 99,\n                \"time_frame\": \"2020-04-20 00:00\",\n                \"topic_1\": 0,\n                \"topic_10\": 0,\n                \"topic_2\": 0,\n                \"topic_3\": 0,\n                \"topic_4\": 0,\n                \"topic_5\": 0,\n                \"topic_6\": 0,\n                \"topic_7\": 0,\n                \"topic_8\": 0,\n                \"topic_9\": 0,\n                \"utterance_length\": 4\n            },\n            \"ff9b8e3a-c6e8-2ebe-69b9-82155995c6d4\": {\n                \"content\": \"Latest cases\",\n                \"processsed_content\": \"latest cases\",\n                \"rn\": 3791,\n                \"time_frame\": \"2020-04-20 00:00\",\n                \"topic_1\": 0,\n                \"topic_10\": 0,\n                \"topic_2\": 0,\n                \"topic_3\": 0,\n                \"topic_4\": 1,\n                \"topic_5\": 0,\n                \"topic_6\": 0,\n                \"topic_7\": 0,\n                \"topic_8\": 0,\n                \"topic_9\": 0,\n                \"utterance_length\": 12\n            },\n            \"ffa3a511-58cc-abcc-7014-aec04e6e2d2e\": {\n                \"content\": \"I leave in gauteng\",\n                \"processsed_content\": \"leave gauteng\",\n                \"rn\": 3044,\n                \"time_frame\": \"2020-04-20 00:00\",\n                \"topic_1\": 0,\n                \"topic_10\": 0,\n                \"topic_2\": 0,\n                \"topic_3\": 0,\n                \"topic_4\": 0,\n                \"topic_5\": 0,\n                \"topic_6\": 0,\n                \"topic_7\": 0,\n                \"topic_8\": 0,\n                \"topic_9\": 0,\n                \"utterance_length\": 18\n            },\n            \"ffb4b51e-a749-12e8-4369-b81ceefec830\": {\n                \"content\": \"Corona\",\n                \"processsed_content\": \"corona\",\n                \"rn\": 3883,\n                \"time_frame\": \"2020-04-20 00:00\",\n                \"topic_1\": 0,\n                \"topic_10\": 0,\n                \"topic_2\": 0,\n                \"topic_3\": 0,\n                \"topic_4\": 0,\n                \"topic_5\": 0,\n                \"topic_6\": 0,\n                \"topic_7\": 0,\n                \"topic_8\": 0,\n                \"topic_9\": 0,\n                \"utterance_length\": 6\n            },\n            \"ffe630d9-aac4-ff76-2a47-f742bc3632b2\": {\n                \"content\": \"Deaths\",\n                \"processsed_content\": \"deaths\",\n                \"rn\": 1932,\n                \"time_frame\": \"2020-04-20 00:00\",\n                \"topic_1\": 0,\n                \"topic_10\": 0,\n                \"topic_2\": 0,\n                \"topic_3\": 0,\n                \"topic_4\": 0,\n                \"topic_5\": 0,\n                \"topic_6\": 0,\n                \"topic_7\": 0,\n                \"topic_8\": 0,\n                \"topic_9\": 0,\n                \"utterance_length\": 6\n            },\n            \"fff9fe31-0b27-452e-a2e7-382158bad6c7\": {\n                \"content\": \"SASSA\",\n                \"processsed_content\": \"sassa\",\n                \"rn\": 4644,\n                \"time_frame\": \"2020-04-20 00:00\",\n                \"topic_1\": 0,\n                \"topic_10\": 0,\n                \"topic_2\": 0,\n                \"topic_3\": 0,\n                \"topic_4\": 0,\n                \"topic_5\": 0,\n                \"topic_6\": 0,\n                \"topic_7\": 0,\n                \"topic_8\": 0,\n                \"topic_9\": 0,\n                \"utterance_length\": 5\n            },\n            \"fffd1d03-f1b4-d7c1-09d6-baa6d2d3aeeb\": {\n                \"content\": \"19.04.20 cases\",\n                \"processsed_content\": \"19.04.20 cases\",\n                \"rn\": 4694,\n                \"time_frame\": \"2020-04-20 00:00\",\n                \"topic_1\": 1,\n                \"topic_10\": 0,\n                \"topic_2\": 0,\n                \"topic_3\": 0,\n                \"topic_4\": 0,\n                \"topic_5\": 1,\n                \"topic_6\": 0,\n                \"topic_7\": 0,\n                \"topic_8\": 0,\n                \"topic_9\": 0,\n                \"utterance_length\": 14\n            },\n            \"ffff493c-19c5-8526-30f1-897b3bfb9d12\": {\n                \"content\": \"total number of confirmed\",\n                \"processsed_content\": \"total number confirmed\",\n                \"rn\": 151,\n                \"time_frame\": \"2020-04-20 00:00\",\n                \"topic_1\": 0,\n                \"topic_10\": 0,\n                \"topic_2\": 1,\n                \"topic_3\": 0,\n                \"topic_4\": 0,\n                \"topic_5\": 0,\n                \"topic_6\": 0,\n                \"topic_7\": 0,\n                \"topic_8\": 0,\n                \"topic_9\": 0,\n                \"utterance_length\": 25\n            }\n        },\n        \"num_utterances\": 4825,\n        \"time_frame\": \"2020-04-20 00:00\"\n    }\n]\n"
    }
   ],
   "source": [
    "print(json.dumps(result_frames, indent=4, sort_keys=True, ensure_ascii=False))"
   ]
  },
  {
   "cell_type": "code",
   "execution_count": null,
   "metadata": {},
   "outputs": [],
   "source": []
  },
  {
   "cell_type": "markdown",
   "metadata": {},
   "source": [
    "# Plot the Results"
   ]
  },
  {
   "cell_type": "code",
   "execution_count": 10,
   "metadata": {},
   "outputs": [
    {
     "output_type": "execute_result",
     "data": {
      "text/plain": "                day                                  uuid  \\\n0  2020-04-16 00:00  b2470cae-9c24-9340-8085-92223ecc2df4   \n1  2020-04-16 00:00  562f2709-67d3-e023-bec0-12b52b256e00   \n2  2020-04-16 00:00  de297728-85db-cdd5-75ca-04d5b02a092c   \n3  2020-04-16 00:00  faf176f7-ee13-f862-db3e-c8f03cf187f6   \n4  2020-04-16 00:00  a776a123-ac0b-9c73-247d-0c084fde52f9   \n\n                               content  rn  \n0                          Oryt Corona   1  \n1                               🤔🤔🤔???   2  \n2                               Corona   3  \n3                                 Case   4  \n4  Dcxfftcfccygggg 🦄🐈🦄🐒🦄🐎🐈🐈🐈🐒🐒🐱🐎⛑️🐶c🌶️   5  ",
      "text/html": "<div>\n<style scoped>\n    .dataframe tbody tr th:only-of-type {\n        vertical-align: middle;\n    }\n\n    .dataframe tbody tr th {\n        vertical-align: top;\n    }\n\n    .dataframe thead th {\n        text-align: right;\n    }\n</style>\n<table border=\"1\" class=\"dataframe\">\n  <thead>\n    <tr style=\"text-align: right;\">\n      <th></th>\n      <th>day</th>\n      <th>uuid</th>\n      <th>content</th>\n      <th>rn</th>\n    </tr>\n  </thead>\n  <tbody>\n    <tr>\n      <th>0</th>\n      <td>2020-04-16 00:00</td>\n      <td>b2470cae-9c24-9340-8085-92223ecc2df4</td>\n      <td>Oryt Corona</td>\n      <td>1</td>\n    </tr>\n    <tr>\n      <th>1</th>\n      <td>2020-04-16 00:00</td>\n      <td>562f2709-67d3-e023-bec0-12b52b256e00</td>\n      <td>🤔🤔🤔???</td>\n      <td>2</td>\n    </tr>\n    <tr>\n      <th>2</th>\n      <td>2020-04-16 00:00</td>\n      <td>de297728-85db-cdd5-75ca-04d5b02a092c</td>\n      <td>Corona</td>\n      <td>3</td>\n    </tr>\n    <tr>\n      <th>3</th>\n      <td>2020-04-16 00:00</td>\n      <td>faf176f7-ee13-f862-db3e-c8f03cf187f6</td>\n      <td>Case</td>\n      <td>4</td>\n    </tr>\n    <tr>\n      <th>4</th>\n      <td>2020-04-16 00:00</td>\n      <td>a776a123-ac0b-9c73-247d-0c084fde52f9</td>\n      <td>Dcxfftcfccygggg 🦄🐈🦄🐒🦄🐎🐈🐈🐈🐒🐒🐱🐎⛑️🐶c🌶️</td>\n      <td>5</td>\n    </tr>\n  </tbody>\n</table>\n</div>"
     },
     "metadata": {},
     "execution_count": 10
    }
   ],
   "source": [
    "df.head()"
   ]
  }
 ],
 "metadata": {
  "kernelspec": {
   "display_name": "Python 3.7.7 64-bit ('tropical': conda)",
   "language": "python",
   "name": "python37764bittropicalcondac164ff4360b048629e59135893879dfc"
  },
  "language_info": {
   "codemirror_mode": {
    "name": "ipython",
    "version": 3
   },
   "file_extension": ".py",
   "mimetype": "text/x-python",
   "name": "python",
   "nbconvert_exporter": "python",
   "pygments_lexer": "ipython3",
   "version": "3.7.7-final"
  }
 },
 "nbformat": 4,
 "nbformat_minor": 4
}