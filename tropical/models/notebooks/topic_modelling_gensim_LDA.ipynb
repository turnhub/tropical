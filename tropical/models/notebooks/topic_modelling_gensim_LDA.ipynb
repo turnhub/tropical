{
 "cells": [
  {
   "cell_type": "code",
   "execution_count": 1,
   "metadata": {},
   "outputs": [
    {
     "name": "stdout",
     "output_type": "stream",
     "text": [
      "module_path = /home/ari/Documents/Repos/tropical\n"
     ]
    }
   ],
   "source": [
    "import sys\n",
    "import os\n",
    "\n",
    "# NOTE: The below import is useful to bring the local modules into the Python path!\n",
    "module_path = os.path.abspath(os.path.join('../../..'))\n",
    "print(\"module_path =\", module_path, flush=True)\n",
    "\n",
    "if module_path not in sys.path:\n",
    "    sys.path.append(module_path)\n"
   ]
  },
  {
   "cell_type": "code",
   "execution_count": 2,
   "metadata": {},
   "outputs": [],
   "source": [
    "import unittest\n",
    "import wget\n",
    "import pandas as pd\n",
    "import json\n",
    "\n",
    "import seaborn as sns\n",
    "import matplotlib.pyplot as plt"
   ]
  },
  {
   "cell_type": "code",
   "execution_count": 3,
   "metadata": {},
   "outputs": [],
   "source": [
    "%reload_ext autoreload\n",
    "%autoreload\n",
    "\n",
    "\n",
    "from tropical.models import topic_modelling_gensim_LDA"
   ]
  },
  {
   "cell_type": "code",
   "execution_count": 4,
   "metadata": {},
   "outputs": [],
   "source": [
    "from IPython.core.interactiveshell import InteractiveShell\n",
    "InteractiveShell.ast_node_interactivity = \"all\""
   ]
  },
  {
   "cell_type": "code",
   "execution_count": 5,
   "metadata": {},
   "outputs": [],
   "source": [
    "# file_url = \"https://storage.cloud.google.com/io-feersum-vectors-nlu-prod/Extract_inbound_that_triggered_catchall_2020_04_20.csv\""
   ]
  },
  {
   "cell_type": "code",
   "execution_count": 6,
   "metadata": {},
   "outputs": [
    {
     "name": "stdout",
     "output_type": "stream",
     "text": [
      "Extract_inbound_that_triggered_catchall_2020_04_20.csv\r\n",
      "ngram_analysis_gensim.ipynb\r\n",
      "_readme.txt\r\n",
      "topic-model-example\r\n",
      "topic_modelling_corex.ipynb\r\n",
      "topic_modelling_gensim_LDA.ipynb\r\n",
      "twenty\r\n"
     ]
    }
   ],
   "source": [
    "! ls"
   ]
  },
  {
   "cell_type": "code",
   "execution_count": 7,
   "metadata": {},
   "outputs": [
    {
     "name": "stdout",
     "output_type": "stream",
     "text": [
      "day,uuid,content,rn\r",
      "\r\n",
      "2020-04-16 00:00,b2470cae-9c24-9340-8085-92223ecc2df4,Oryt Corona,1\r",
      "\r\n",
      "2020-04-16 00:00,562f2709-67d3-e023-bec0-12b52b256e00,🤔🤔🤔???,2\r",
      "\r\n",
      "2020-04-16 00:00,de297728-85db-cdd5-75ca-04d5b02a092c,Corona,3\r",
      "\r\n",
      "2020-04-16 00:00,faf176f7-ee13-f862-db3e-c8f03cf187f6,Case,4\r",
      "\r\n",
      "2020-04-16 00:00,a776a123-ac0b-9c73-247d-0c084fde52f9,Dcxfftcfccygggg 🦄🐈🦄🐒🦄🐎🐈🐈🐈🐒🐒🐱🐎⛑️🐶c🌶️,5\r",
      "\r\n",
      "2020-04-16 00:00,85d05d3e-7ed4-af0d-1034-e9ea543dee28,Awe,6\r",
      "\r\n",
      "2020-04-16 00:00,02f22fc8-ad71-4264-8d55-858e7c6cc6fe,Update on covid 19,7\r",
      "\r\n",
      "2020-04-16 00:00,5cc5f3e2-c878-f39b-d9b5-6d9becd50dd0,Case,8\r",
      "\r\n",
      "2020-04-16 00:00,fba3812e-7428-2ada-b453-3b2d46e0998c,*Testing and Symptoms*,9\r",
      "\r\n"
     ]
    }
   ],
   "source": [
    "! head Extract_inbound_that_triggered_catchall_2020_04_20.csv"
   ]
  },
  {
   "cell_type": "code",
   "execution_count": 17,
   "metadata": {},
   "outputs": [
    {
     "name": "stdout",
     "output_type": "stream",
     "text": [
      "filename = ~/Downloads/absa_chatlogs.csv\n"
     ]
    },
    {
     "data": {
      "text/plain": [
       "Index(['time_frame', 'uuid', 'content'], dtype='object')"
      ]
     },
     "execution_count": 17,
     "metadata": {},
     "output_type": "execute_result"
    },
    {
     "data": {
      "text/html": [
       "<div>\n",
       "<style scoped>\n",
       "    .dataframe tbody tr th:only-of-type {\n",
       "        vertical-align: middle;\n",
       "    }\n",
       "\n",
       "    .dataframe tbody tr th {\n",
       "        vertical-align: top;\n",
       "    }\n",
       "\n",
       "    .dataframe thead th {\n",
       "        text-align: right;\n",
       "    }\n",
       "</style>\n",
       "<table border=\"1\" class=\"dataframe\">\n",
       "  <thead>\n",
       "    <tr style=\"text-align: right;\">\n",
       "      <th></th>\n",
       "      <th>time_frame</th>\n",
       "      <th>uuid</th>\n",
       "      <th>content</th>\n",
       "    </tr>\n",
       "  </thead>\n",
       "  <tbody>\n",
       "    <tr>\n",
       "      <th>count</th>\n",
       "      <td>88424</td>\n",
       "      <td>88424</td>\n",
       "      <td>88424</td>\n",
       "    </tr>\n",
       "    <tr>\n",
       "      <th>unique</th>\n",
       "      <td>1</td>\n",
       "      <td>88424</td>\n",
       "      <td>12267</td>\n",
       "    </tr>\n",
       "    <tr>\n",
       "      <th>top</th>\n",
       "      <td>someday</td>\n",
       "      <td>9d603b22-8559-470e-b14b-3cc094c14965</td>\n",
       "      <td>1</td>\n",
       "    </tr>\n",
       "    <tr>\n",
       "      <th>freq</th>\n",
       "      <td>88424</td>\n",
       "      <td>1</td>\n",
       "      <td>23066</td>\n",
       "    </tr>\n",
       "  </tbody>\n",
       "</table>\n",
       "</div>"
      ],
      "text/plain": [
       "       time_frame                                  uuid content\n",
       "count       88424                                 88424   88424\n",
       "unique          1                                 88424   12267\n",
       "top       someday  9d603b22-8559-470e-b14b-3cc094c14965       1\n",
       "freq        88424                                     1   23066"
      ]
     },
     "execution_count": 17,
     "metadata": {},
     "output_type": "execute_result"
    },
    {
     "data": {
      "text/html": [
       "<div>\n",
       "<style scoped>\n",
       "    .dataframe tbody tr th:only-of-type {\n",
       "        vertical-align: middle;\n",
       "    }\n",
       "\n",
       "    .dataframe tbody tr th {\n",
       "        vertical-align: top;\n",
       "    }\n",
       "\n",
       "    .dataframe thead th {\n",
       "        text-align: right;\n",
       "    }\n",
       "</style>\n",
       "<table border=\"1\" class=\"dataframe\">\n",
       "  <thead>\n",
       "    <tr style=\"text-align: right;\">\n",
       "      <th></th>\n",
       "      <th>time_frame</th>\n",
       "      <th>uuid</th>\n",
       "      <th>content</th>\n",
       "    </tr>\n",
       "  </thead>\n",
       "  <tbody>\n",
       "    <tr>\n",
       "      <th>3005</th>\n",
       "      <td>someday</td>\n",
       "      <td>a57a4684-8d00-4143-be77-6a90816f4734</td>\n",
       "      <td>6</td>\n",
       "    </tr>\n",
       "    <tr>\n",
       "      <th>16702</th>\n",
       "      <td>someday</td>\n",
       "      <td>13a8502a-a00b-4550-b6cd-18d5b3a1f7ef</td>\n",
       "      <td>Hie</td>\n",
       "    </tr>\n",
       "    <tr>\n",
       "      <th>77168</th>\n",
       "      <td>someday</td>\n",
       "      <td>4e12e2ea-6bd1-450c-9199-db5dee07bd7f</td>\n",
       "      <td>If I want to add my brother how is going to in...</td>\n",
       "    </tr>\n",
       "    <tr>\n",
       "      <th>23017</th>\n",
       "      <td>someday</td>\n",
       "      <td>f9b9d31f-b787-4f6a-a30e-bae63b92a828</td>\n",
       "      <td>Yabe sithi zomginyusela ngikhokhe R78 manje ng...</td>\n",
       "    </tr>\n",
       "    <tr>\n",
       "      <th>72550</th>\n",
       "      <td>someday</td>\n",
       "      <td>d57ebe87-a43b-41e1-b129-ab9b999fcad9</td>\n",
       "      <td>Hi.. am Riconeth shivuri i wanted to add my ne...</td>\n",
       "    </tr>\n",
       "  </tbody>\n",
       "</table>\n",
       "</div>"
      ],
      "text/plain": [
       "      time_frame                                  uuid  \\\n",
       "3005     someday  a57a4684-8d00-4143-be77-6a90816f4734   \n",
       "16702    someday  13a8502a-a00b-4550-b6cd-18d5b3a1f7ef   \n",
       "77168    someday  4e12e2ea-6bd1-450c-9199-db5dee07bd7f   \n",
       "23017    someday  f9b9d31f-b787-4f6a-a30e-bae63b92a828   \n",
       "72550    someday  d57ebe87-a43b-41e1-b129-ab9b999fcad9   \n",
       "\n",
       "                                                 content  \n",
       "3005                                                   6  \n",
       "16702                                                Hie  \n",
       "77168  If I want to add my brother how is going to in...  \n",
       "23017  Yabe sithi zomginyusela ngikhokhe R78 manje ng...  \n",
       "72550  Hi.. am Riconeth shivuri i wanted to add my ne...  "
      ]
     },
     "execution_count": 17,
     "metadata": {},
     "output_type": "execute_result"
    }
   ],
   "source": [
    "filename = \"Extract_inbound_that_triggered_catchall_2020_04_20.csv\"\n",
    "filename2 = \"~/Downloads/absa_chatlogs.csv\"\n",
    "print(\"filename =\", filename2)\n",
    "df = pd.read_csv(filename2)\n",
    "# os.remove(filename)\n",
    "\n",
    "df.columns\n",
    "df.describe()\n",
    "df.sample(n=5)"
   ]
  },
  {
   "cell_type": "code",
   "execution_count": 18,
   "metadata": {},
   "outputs": [],
   "source": [
    "analyser = topic_modelling_gensim_LDA.TopicModellingGensimLDA(max_topics=6)"
   ]
  },
  {
   "cell_type": "code",
   "execution_count": 23,
   "metadata": {},
   "outputs": [
    {
     "name": "stdout",
     "output_type": "stream",
     "text": [
      "utterance_length_threshold = 118.0\n",
      "Working on Frame someday\n",
      "Running Model for 2 topics\n",
      "Running Model for 4 topics\n",
      "Running Model for 6 topics\n",
      "[0.5646421467457552, 0.5007781870042565, 0.6140022613696605]\n",
      "CPU times: user 3min 36s, sys: 455 ms, total: 3min 37s\n",
      "Wall time: 3min 37s\n"
     ]
    }
   ],
   "source": [
    "%%time\n",
    "result_frames = analyser.analyse_dataframe(df, delimiter=b'|')"
   ]
  },
  {
   "cell_type": "code",
   "execution_count": 24,
   "metadata": {},
   "outputs": [
    {
     "data": {
      "text/plain": [
       "dict_keys(['time_frame', 'num_utterances', 'topics', 'coherence'])"
      ]
     },
     "execution_count": 24,
     "metadata": {},
     "output_type": "execute_result"
    }
   ],
   "source": [
    "result_frames[0].keys()"
   ]
  },
  {
   "cell_type": "code",
   "execution_count": 25,
   "metadata": {},
   "outputs": [
    {
     "name": "stdout",
     "output_type": "stream",
     "text": [
      "Topic modelling analysis was run on 1 time frames\n",
      "['someday']\n"
     ]
    }
   ],
   "source": [
    "print(f\"Topic modelling analysis was run on {len(result_frames)} time frames\")\n",
    "print(f\"{[result_frame.get('time_frame') for result_frame in result_frames]}\")"
   ]
  },
  {
   "cell_type": "code",
   "execution_count": 26,
   "metadata": {},
   "outputs": [
    {
     "name": "stdout",
     "output_type": "stream",
     "text": [
      "For someday the best number of topics was 6.     \n",
      "With coherence = 0.6140022613696605\n",
      "\n",
      "----TOPIC 0----\n",
      "Term | Probablitiy\n",
      "('receive', 0.016670676)\n",
      "('monthly', 0.01146421)\n",
      "('passport', 0.010002295)\n",
      "('wil', 0.009358796)\n",
      "('lost', 0.0061043985)\n",
      "('first', 0.00576215)\n",
      "('ke', 0.0046021533)\n",
      "('block', 0.0042312657)\n",
      "('xxxxxxxxxxxxxxxxx', 0.0033918722)\n",
      "('l', 0.0032546122)\n",
      "\n",
      "----TOPIC 1----\n",
      "Term | Probablitiy\n",
      "('i', 0.08672991)\n",
      "('my', 0.051682405)\n",
      "('to', 0.046605222)\n",
      "('the', 0.041874632)\n",
      "('policy', 0.029569222)\n",
      "('can', 0.023396438)\n",
      "('you', 0.022642085)\n",
      "('on', 0.021283709)\n",
      "('of', 0.017770458)\n",
      "('me', 0.015733821)\n",
      "\n",
      "----TOPIC 2----\n",
      "Term | Probablitiy\n",
      "('to', 0.06510979)\n",
      "('date', 0.059101567)\n",
      "('change', 0.047673654)\n",
      "('my', 0.035793472)\n",
      "('is', 0.028391033)\n",
      "('debit|order', 0.023600861)\n",
      "('up', 0.022736121)\n",
      "('i', 0.020785566)\n",
      "('want', 0.01641922)\n",
      "('the', 0.011929944)\n",
      "\n",
      "----TOPIC 3----\n",
      "Term | Probablitiy\n",
      "('1', 0.20222127)\n",
      "('xxxxxxxxxxxxx', 0.12985572)\n",
      "('2', 0.080882765)\n",
      "('4', 0.07771702)\n",
      "('hi', 0.059841856)\n",
      "('3', 0.04548873)\n",
      "('5', 0.034572467)\n",
      "('my', 0.019017935)\n",
      "('i', 0.012930395)\n",
      "('is', 0.009755367)\n",
      "\n",
      "----TOPIC 4----\n",
      "Term | Probablitiy\n",
      "('cause', 0.013169295)\n",
      "('again', 0.010127365)\n",
      "('coz', 0.009862824)\n",
      "('enter', 0.007979246)\n",
      "('years', 0.0068951137)\n",
      "('mornings', 0.0062528113)\n",
      "('paid', 0.006207183)\n",
      "('add|a|member', 0.0059559466)\n",
      "('cancell', 0.0052689663)\n",
      "('step|7', 0.004888663)\n",
      "\n",
      "----TOPIC 5----\n",
      "Term | Probablitiy\n",
      "('absa.co.za', 0.013055108)\n",
      "('bye', 0.0124030905)\n",
      "('1.check|policy|info', 0.008185139)\n",
      "('zimele|plan', 0.007654512)\n",
      "('ek', 0.006918145)\n",
      "('polis', 0.0065153246)\n",
      "('2020', 0.0060183313)\n",
      "('die', 0.00525279)\n",
      "('in', 0.0050890623)\n",
      "('flex|funeral', 0.004878217)\n",
      "\n"
     ]
    }
   ],
   "source": [
    "# how many topics for each time frame\n",
    "for result_frame in result_frames:\n",
    "    print(f\"For {result_frame.get('time_frame')} the best number of topics was {len(result_frame.get('topics'))}. \\\n",
    "    \\nWith coherence = {result_frame.get('coherence')}\\n\")\n",
    "    \n",
    "    for topic_number in range(len(result_frame.get('topics'))):\n",
    "        print(f\"----TOPIC {topic_number}----\")\n",
    "        print(f\"Term | Probablitiy\")\n",
    "        for terms in (result_frame.get('topics')[topic_number]):\n",
    "            print(terms)\n",
    "        print()"
   ]
  },
  {
   "cell_type": "code",
   "execution_count": 27,
   "metadata": {},
   "outputs": [
    {
     "data": {
      "text/plain": [
       "{'time_frame': 'someday',\n",
       " 'num_utterances': 86668,\n",
       " 'topics': [[('receive', 0.016670676),\n",
       "   ('monthly', 0.01146421),\n",
       "   ('passport', 0.010002295),\n",
       "   ('wil', 0.009358796),\n",
       "   ('lost', 0.0061043985),\n",
       "   ('first', 0.00576215),\n",
       "   ('ke', 0.0046021533),\n",
       "   ('block', 0.0042312657),\n",
       "   ('xxxxxxxxxxxxxxxxx', 0.0033918722),\n",
       "   ('l', 0.0032546122)],\n",
       "  [('i', 0.08672991),\n",
       "   ('my', 0.051682405),\n",
       "   ('to', 0.046605222),\n",
       "   ('the', 0.041874632),\n",
       "   ('policy', 0.029569222),\n",
       "   ('can', 0.023396438),\n",
       "   ('you', 0.022642085),\n",
       "   ('on', 0.021283709),\n",
       "   ('of', 0.017770458),\n",
       "   ('me', 0.015733821)],\n",
       "  [('to', 0.06510979),\n",
       "   ('date', 0.059101567),\n",
       "   ('change', 0.047673654),\n",
       "   ('my', 0.035793472),\n",
       "   ('is', 0.028391033),\n",
       "   ('debit|order', 0.023600861),\n",
       "   ('up', 0.022736121),\n",
       "   ('i', 0.020785566),\n",
       "   ('want', 0.01641922),\n",
       "   ('the', 0.011929944)],\n",
       "  [('1', 0.20222127),\n",
       "   ('xxxxxxxxxxxxx', 0.12985572),\n",
       "   ('2', 0.080882765),\n",
       "   ('4', 0.07771702),\n",
       "   ('hi', 0.059841856),\n",
       "   ('3', 0.04548873),\n",
       "   ('5', 0.034572467),\n",
       "   ('my', 0.019017935),\n",
       "   ('i', 0.012930395),\n",
       "   ('is', 0.009755367)],\n",
       "  [('cause', 0.013169295),\n",
       "   ('again', 0.010127365),\n",
       "   ('coz', 0.009862824),\n",
       "   ('enter', 0.007979246),\n",
       "   ('years', 0.0068951137),\n",
       "   ('mornings', 0.0062528113),\n",
       "   ('paid', 0.006207183),\n",
       "   ('add|a|member', 0.0059559466),\n",
       "   ('cancell', 0.0052689663),\n",
       "   ('step|7', 0.004888663)],\n",
       "  [('absa.co.za', 0.013055108),\n",
       "   ('bye', 0.0124030905),\n",
       "   ('1.check|policy|info', 0.008185139),\n",
       "   ('zimele|plan', 0.007654512),\n",
       "   ('ek', 0.006918145),\n",
       "   ('polis', 0.0065153246),\n",
       "   ('2020', 0.0060183313),\n",
       "   ('die', 0.00525279),\n",
       "   ('in', 0.0050890623),\n",
       "   ('flex|funeral', 0.004878217)]],\n",
       " 'coherence': 0.6140022613696605}"
      ]
     },
     "execution_count": 27,
     "metadata": {},
     "output_type": "execute_result"
    }
   ],
   "source": [
    "result_frames[0]"
   ]
  },
  {
   "cell_type": "code",
   "execution_count": null,
   "metadata": {},
   "outputs": [],
   "source": []
  }
 ],
 "metadata": {
  "kernelspec": {
   "display_name": "Python 3",
   "language": "python",
   "name": "python3"
  },
  "language_info": {
   "codemirror_mode": {
    "name": "ipython",
    "version": 3
   },
   "file_extension": ".py",
   "mimetype": "text/x-python",
   "name": "python",
   "nbconvert_exporter": "python",
   "pygments_lexer": "ipython3",
   "version": "3.7.7"
  }
 },
 "nbformat": 4,
 "nbformat_minor": 4
}
