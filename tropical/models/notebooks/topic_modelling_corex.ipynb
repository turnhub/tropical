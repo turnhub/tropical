{
 "cells": [
  {
   "cell_type": "code",
   "execution_count": 1,
   "metadata": {
    "tags": []
   },
   "outputs": [
    {
     "output_type": "stream",
     "name": "stdout",
     "text": "module_path = /home/ari/Documents/Repos/tropical\n"
    }
   ],
   "source": [
    "import sys\n",
    "import os\n",
    "\n",
    "# NOTE: The below import is useful to bring the local modules into the Python path!\n",
    "module_path = os.path.abspath(os.path.join('../../..'))\n",
    "print(\"module_path =\", module_path, flush=True)\n",
    "\n",
    "if module_path not in sys.path:\n",
    "    sys.path.append(module_path)\n"
   ]
  },
  {
   "cell_type": "code",
   "execution_count": 10,
   "metadata": {},
   "outputs": [],
   "source": [
    "import unittest\n",
    "import wget\n",
    "import pandas as pd\n",
    "import json\n",
    "\n",
    "import seaborn as sns\n",
    "import matplotlib.pyplot as plt\n",
    "import matplotlib.ticker as ticker\n",
    "\n",
    "import plotly.express as px\n",
    "import plotly.graph_objs as go\n"
   ]
  },
  {
   "cell_type": "code",
   "execution_count": 3,
   "metadata": {},
   "outputs": [],
   "source": [
    "%reload_ext autoreload\n",
    "%autoreload\n",
    "\n",
    "from tropical.models import topic_modelling_corex\n"
   ]
  },
  {
   "cell_type": "code",
   "execution_count": 4,
   "metadata": {},
   "outputs": [],
   "source": [
    "file_url = \"https://storage.googleapis.com/io-feersum-vectors-nlu-prod/Extract_inbound_that_triggered_catchall_2020_04_20.csv?\"\\\n",
    "\"x-goog-signature=7a038d055fa6b6fd06384a84690deae8beda042450efbfd4935e23be843c624db6d34a573faa084a0539029d0f85dddedb6\"\\\n",
    "\"88c843ad0671fe6578da0b041675ed9f68b315dafd97da197dd44503096cce45cdd364592fc61df16f6be41f8c8268a537b40bb57a6ea2c61fa4\"\\\n",
    "\"381f3973222a57a5dbc38d82b1b0d91cbefb35024a173cbd726363dcdc8ba5b412de448b6309d5121eee470163c46750e92f93fc8b5e40750365\"\\\n",
    "\"184a337c927b72c8cf9cedef830ecc475fec72a594fdea869a5f683e131144ae37f6413d84c79605f485aeb8a999f989f718fe63d68f0c6b2984\"\\\n",
    "\"6f73ece8dac59a30cb68b9397947855f3caeb25aa41c1cba52d36f711c96fd031&x-goog-algorithm=GOOG4-RSA-SHA256&x-goog-credentia\"\\\n",
    "\"l=gcp-storage%40feersum-221018.iam.gserviceaccount.com%2F20200818%2Fmulti%2Fstorage%2Fgoog4_request&x-goog-date=20200\"\\\n",
    "\"818T082034Z&x-goog-expires=604800&x-goog-signedheaders=host\"\n"
   ]
  },
  {
   "cell_type": "code",
   "execution_count": 5,
   "metadata": {
    "tags": []
   },
   "outputs": [
    {
     "output_type": "stream",
     "name": "stdout",
     "text": "filename = Extract_inbound_that_triggered_catchall_2020_04_20.csv\nIndex(['day', 'uuid', 'content', 'rn'], dtype='object')\n                 rn\ncount  20014.000000\nmean    2497.760118\nstd     1444.404631\nmin        1.000000\n25%     1247.000000\n50%     2498.000000\n75%     3748.750000\nmax     4999.000000\n                    day                                  uuid  \\\n4239   2020-04-17 00:00  fdfce001-85fe-e4e9-e857-cb9415b229b6   \n1900   2020-04-17 00:00  894870c6-2808-9769-acf4-a2ebe40414c4   \n3379   2020-04-17 00:00  f9e93661-3cf6-9ce5-e8a8-8448615c7a25   \n9994   2020-04-18 00:00  b5f14f72-6c93-9641-1ab5-5c5a4ed0a451   \n11701  2020-04-19 00:00  ac77d9a5-f1e7-8eb7-707b-153112ff50f2   \n\n                             content    rn  \n4239   Izimpawu nobungozi mase unalo  4222  \n1900             Iimpawu \\n1.English  1883  \n3379                         Yesring  3362  \n9994                            Dbjw  4978  \n11701            What caused covid19  1686  \n"
    }
   ],
   "source": [
    "filename = wget.download(file_url)\n",
    "print(\"filename =\", filename)\n",
    "df = pd.read_csv(filename)\n",
    "os.remove(filename)\n",
    "\n",
    "print(df.columns)\n",
    "print(df.describe())\n",
    "print(df.sample(n=5))\n"
   ]
  },
  {
   "cell_type": "code",
   "execution_count": 6,
   "metadata": {},
   "outputs": [],
   "source": [
    "\n",
    "analyser = topic_modelling_corex.TopicModellingCorex(n_topics=10)"
   ]
  },
  {
   "cell_type": "code",
   "execution_count": 7,
   "metadata": {
    "tags": []
   },
   "outputs": [
    {
     "output_type": "stream",
     "name": "stdout",
     "text": "utterance_length_threshold = 231.0\nThere are 5 time frames\nWorking on Frame 2020-04-16 00:00\nVectorizing using TF-IDF\nVectorizing using TF-IDF\nThere are 5 time frames\nWorking on Frame 2020-04-17 00:00\nVectorizing using TF-IDF\nVectorizing using TF-IDF\nThere are 5 time frames\nWorking on Frame 2020-04-18 00:00\nVectorizing using TF-IDF\nVectorizing using TF-IDF\nThere are 5 time frames\nWorking on Frame 2020-04-19 00:00\nVectorizing using TF-IDF\nVectorizing using TF-IDF\nThere are 5 time frames\nWorking on Frame 2020-04-20 00:00\nVectorizing using TF-IDF\nVectorizing using TF-IDF\n"
    }
   ],
   "source": [
    "result_frames = analyser.analyse_dataframe(df)"
   ]
  },
  {
   "cell_type": "code",
   "execution_count": 8,
   "metadata": {
    "tags": [
     "outputPrepend"
    ]
   },
   "outputs": [
    {
     "output_type": "stream",
     "name": "stdout",
     "text": "0.0,\n                \"topic_3\": 0.0,\n                \"topic_4\": 0.0,\n                \"topic_5\": 0.0,\n                \"topic_6\": 0.0,\n                \"topic_7\": 0.0,\n                \"topic_8\": 0.0,\n                \"topic_9\": 0.0,\n                \"utterance_length\": 10\n            },\n            \"ff1f0c04-080d-4569-2722-a31b57ab59cd\": {\n                \"topic_1\": 0.0,\n                \"topic_10\": 0.0,\n                \"topic_2\": 0.0,\n                \"topic_3\": 0.0,\n                \"topic_4\": 0.0,\n                \"topic_5\": 0.0,\n                \"topic_6\": 0.0,\n                \"topic_7\": 0.0,\n                \"topic_8\": 0.0,\n                \"topic_9\": 0.0,\n                \"utterance_length\": 13\n            },\n            \"ff20800a-1a11-c7b3-a8b9-dd812a61dd9a\": {\n                \"topic_1\": 1.0,\n                \"topic_10\": 0.0,\n                \"topic_2\": 0.0,\n                \"topic_3\": 0.0,\n                \"topic_4\": 0.0,\n                \"topic_5\": 0.0,\n                \"topic_6\": 0.0,\n                \"topic_7\": 0.0,\n                \"topic_8\": 0.0,\n                \"topic_9\": 0.0,\n                \"utterance_length\": 100\n            },\n            \"ff215dda-4039-7c94-f3c8-c9ada2eacf83\": {\n                \"topic_1\": 0.0,\n                \"topic_10\": 0.0,\n                \"topic_2\": 0.0,\n                \"topic_3\": 0.0,\n                \"topic_4\": 0.0,\n                \"topic_5\": 0.0,\n                \"topic_6\": 0.0,\n                \"topic_7\": 0.0,\n                \"topic_8\": 0.0,\n                \"topic_9\": 0.0,\n                \"utterance_length\": 8\n            },\n            \"ff3913ba-1cba-53a7-12f1-beb5e2cae586\": {\n                \"topic_1\": 0.0,\n                \"topic_10\": 0.0,\n                \"topic_2\": 0.0,\n                \"topic_3\": 0.0,\n                \"topic_4\": 0.0,\n                \"topic_5\": 0.0,\n                \"topic_6\": 1.0,\n                \"topic_7\": 0.0,\n                \"topic_8\": 0.0,\n                \"topic_9\": 0.0,\n                \"utterance_length\": 18\n            },\n            \"ff3f45bf-7709-770b-07f5-4862ac364ae5\": {\n                \"topic_1\": 0.0,\n                \"topic_10\": 0.0,\n                \"topic_2\": 1.0,\n                \"topic_3\": 0.0,\n                \"topic_4\": 0.0,\n                \"topic_5\": 0.0,\n                \"topic_6\": 0.0,\n                \"topic_7\": 0.0,\n                \"topic_8\": 0.0,\n                \"topic_9\": 0.0,\n                \"utterance_length\": 20\n            },\n            \"ff4220e8-67f9-ad57-e957-6d998833bf94\": {\n                \"topic_1\": 0.0,\n                \"topic_10\": 0.0,\n                \"topic_2\": 0.0,\n                \"topic_3\": 0.0,\n                \"topic_4\": 0.0,\n                \"topic_5\": 0.0,\n                \"topic_6\": 0.0,\n                \"topic_7\": 0.0,\n                \"topic_8\": 0.0,\n                \"topic_9\": 0.0,\n                \"utterance_length\": 11\n            },\n            \"ff4f4bbf-df98-fd02-3ac5-ba27de79b707\": {\n                \"topic_1\": 0.0,\n                \"topic_10\": 0.0,\n                \"topic_2\": 1.0,\n                \"topic_3\": 0.0,\n                \"topic_4\": 0.0,\n                \"topic_5\": 0.0,\n                \"topic_6\": 0.0,\n                \"topic_7\": 0.0,\n                \"topic_8\": 0.0,\n                \"topic_9\": 0.0,\n                \"utterance_length\": 53\n            },\n            \"ff558bbd-8a40-306b-1994-5ccd1b877ac2\": {\n                \"topic_1\": 0.0,\n                \"topic_10\": 0.0,\n                \"topic_2\": 0.0,\n                \"topic_3\": 0.0,\n                \"topic_4\": 0.0,\n                \"topic_5\": 0.0,\n                \"topic_6\": 0.0,\n                \"topic_7\": 0.0,\n                \"topic_8\": 0.0,\n                \"topic_9\": 0.0,\n                \"utterance_length\": 7\n            },\n            \"ff677a02-6076-96c5-3877-10def02ddb1a\": {\n                \"topic_1\": 0.0,\n                \"topic_10\": 0.0,\n                \"topic_2\": 0.0,\n                \"topic_3\": 0.0,\n                \"topic_4\": 0.0,\n                \"topic_5\": 0.0,\n                \"topic_6\": 0.0,\n                \"topic_7\": 0.0,\n                \"topic_8\": 0.0,\n                \"topic_9\": 0.0,\n                \"utterance_length\": 4\n            },\n            \"ff6f4b8c-0536-e091-1bc4-5cc632412b9c\": {\n                \"topic_1\": 0.0,\n                \"topic_10\": 0.0,\n                \"topic_2\": 0.0,\n                \"topic_3\": 0.0,\n                \"topic_4\": 0.0,\n                \"topic_5\": 0.0,\n                \"topic_6\": 0.0,\n                \"topic_7\": 0.0,\n                \"topic_8\": 0.0,\n                \"topic_9\": 0.0,\n                \"utterance_length\": 5\n            },\n            \"ff7510a2-fccf-a321-7f1e-6fecf4eb4107\": {\n                \"topic_1\": 0.0,\n                \"topic_10\": 0.0,\n                \"topic_2\": 0.0,\n                \"topic_3\": 0.0,\n                \"topic_4\": 0.0,\n                \"topic_5\": 0.0,\n                \"topic_6\": 0.0,\n                \"topic_7\": 0.0,\n                \"topic_8\": 0.0,\n                \"topic_9\": 0.0,\n                \"utterance_length\": 206\n            },\n            \"ff7b2a98-9866-d911-1bdf-b631bf2c35d0\": {\n                \"topic_1\": 0.0,\n                \"topic_10\": 0.0,\n                \"topic_2\": 0.0,\n                \"topic_3\": 0.0,\n                \"topic_4\": 0.0,\n                \"topic_5\": 0.0,\n                \"topic_6\": 0.0,\n                \"topic_7\": 0.0,\n                \"topic_8\": 0.0,\n                \"topic_9\": 0.0,\n                \"utterance_length\": 1\n            },\n            \"ff7b57ac-2659-3810-50ec-dd5abfb671ce\": {\n                \"topic_1\": 0.0,\n                \"topic_10\": 0.0,\n                \"topic_2\": 0.0,\n                \"topic_3\": 0.0,\n                \"topic_4\": 0.0,\n                \"topic_5\": 1.0,\n                \"topic_6\": 0.0,\n                \"topic_7\": 0.0,\n                \"topic_8\": 0.0,\n                \"topic_9\": 0.0,\n                \"utterance_length\": 16\n            },\n            \"ff8e6f92-ee83-36ee-62fa-335d36d678c4\": {\n                \"topic_1\": 1.0,\n                \"topic_10\": 0.0,\n                \"topic_2\": 1.0,\n                \"topic_3\": 0.0,\n                \"topic_4\": 0.0,\n                \"topic_5\": 0.0,\n                \"topic_6\": 0.0,\n                \"topic_7\": 0.0,\n                \"topic_8\": 0.0,\n                \"topic_9\": 0.0,\n                \"utterance_length\": 106\n            },\n            \"ff918c53-2453-4064-3317-f098ae67f52c\": {\n                \"topic_1\": 0.0,\n                \"topic_10\": 0.0,\n                \"topic_2\": 0.0,\n                \"topic_3\": 0.0,\n                \"topic_4\": 0.0,\n                \"topic_5\": 0.0,\n                \"topic_6\": 1.0,\n                \"topic_7\": 0.0,\n                \"topic_8\": 0.0,\n                \"topic_9\": 0.0,\n                \"utterance_length\": 27\n            },\n            \"ff9b0b21-7d6a-1ba8-dc00-875c8103285e\": {\n                \"topic_1\": 0.0,\n                \"topic_10\": 0.0,\n                \"topic_2\": 0.0,\n                \"topic_3\": 0.0,\n                \"topic_4\": 0.0,\n                \"topic_5\": 0.0,\n                \"topic_6\": 0.0,\n                \"topic_7\": 0.0,\n                \"topic_8\": 0.0,\n                \"topic_9\": 0.0,\n                \"utterance_length\": 4\n            },\n            \"ff9b8e3a-c6e8-2ebe-69b9-82155995c6d4\": {\n                \"topic_1\": 0.0,\n                \"topic_10\": 0.0,\n                \"topic_2\": 0.0,\n                \"topic_3\": 0.0,\n                \"topic_4\": 1.0,\n                \"topic_5\": 0.0,\n                \"topic_6\": 0.0,\n                \"topic_7\": 0.0,\n                \"topic_8\": 0.0,\n                \"topic_9\": 0.0,\n                \"utterance_length\": 12\n            },\n            \"ffa3a511-58cc-abcc-7014-aec04e6e2d2e\": {\n                \"topic_1\": 0.0,\n                \"topic_10\": 0.0,\n                \"topic_2\": 0.0,\n                \"topic_3\": 0.0,\n                \"topic_4\": 0.0,\n                \"topic_5\": 0.0,\n                \"topic_6\": 0.0,\n                \"topic_7\": 0.0,\n                \"topic_8\": 0.0,\n                \"topic_9\": 0.0,\n                \"utterance_length\": 18\n            },\n            \"ffb4b51e-a749-12e8-4369-b81ceefec830\": {\n                \"topic_1\": 0.0,\n                \"topic_10\": 0.0,\n                \"topic_2\": 0.0,\n                \"topic_3\": 0.0,\n                \"topic_4\": 0.0,\n                \"topic_5\": 0.0,\n                \"topic_6\": 0.0,\n                \"topic_7\": 0.0,\n                \"topic_8\": 0.0,\n                \"topic_9\": 0.0,\n                \"utterance_length\": 6\n            },\n            \"ffe630d9-aac4-ff76-2a47-f742bc3632b2\": {\n                \"topic_1\": 0.0,\n                \"topic_10\": 0.0,\n                \"topic_2\": 0.0,\n                \"topic_3\": 0.0,\n                \"topic_4\": 0.0,\n                \"topic_5\": 0.0,\n                \"topic_6\": 0.0,\n                \"topic_7\": 0.0,\n                \"topic_8\": 0.0,\n                \"topic_9\": 0.0,\n                \"utterance_length\": 6\n            },\n            \"fff9fe31-0b27-452e-a2e7-382158bad6c7\": {\n                \"topic_1\": 0.0,\n                \"topic_10\": 0.0,\n                \"topic_2\": 0.0,\n                \"topic_3\": 0.0,\n                \"topic_4\": 0.0,\n                \"topic_5\": 0.0,\n                \"topic_6\": 0.0,\n                \"topic_7\": 0.0,\n                \"topic_8\": 0.0,\n                \"topic_9\": 0.0,\n                \"utterance_length\": 5\n            },\n            \"fffd1d03-f1b4-d7c1-09d6-baa6d2d3aeeb\": {\n                \"topic_1\": 1.0,\n                \"topic_10\": 0.0,\n                \"topic_2\": 0.0,\n                \"topic_3\": 0.0,\n                \"topic_4\": 0.0,\n                \"topic_5\": 1.0,\n                \"topic_6\": 0.0,\n                \"topic_7\": 0.0,\n                \"topic_8\": 0.0,\n                \"topic_9\": 0.0,\n                \"utterance_length\": 14\n            },\n            \"ffff493c-19c5-8526-30f1-897b3bfb9d12\": {\n                \"topic_1\": 0.0,\n                \"topic_10\": 0.0,\n                \"topic_2\": 1.0,\n                \"topic_3\": 0.0,\n                \"topic_4\": 0.0,\n                \"topic_5\": 0.0,\n                \"topic_6\": 0.0,\n                \"topic_7\": 0.0,\n                \"topic_8\": 0.0,\n                \"topic_9\": 0.0,\n                \"utterance_length\": 25\n            }\n        },\n        \"num_utterances\": 4825,\n        \"time_frame\": \"2020-04-20 00:00\",\n        \"topics\": {\n            \"topic 1\": [\n                [\n                    \"good\",\n                    \"0.06\"\n                ],\n                [\n                    \"good morning\",\n                    \"0.05\"\n                ],\n                [\n                    \"free\",\n                    \"0.03\"\n                ],\n                [\n                    \"morning\",\n                    \"0.03\"\n                ],\n                [\n                    \"https\",\n                    \"0.03\"\n                ],\n                [\n                    \"com\",\n                    \"0.02\"\n                ],\n                [\n                    \"stay\",\n                    \"0.02\"\n                ],\n                [\n                    \"home\",\n                    \"0.02\"\n                ],\n                [\n                    \"stay home\",\n                    \"0.02\"\n                ],\n                [\n                    \"offer\",\n                    \"0.02\"\n                ]\n            ],\n            \"topic 10\": [\n                [\n                    \"test\",\n                    \"0.01\"\n                ],\n                [\n                    \"coronavirus\",\n                    \"0.01\"\n                ],\n                [\n                    \"recoveries\",\n                    \"0.01\"\n                ],\n                [\n                    \"ho\",\n                    \"0.0\"\n                ],\n                [\n                    \"thing\",\n                    \"0.0\"\n                ],\n                [\n                    \"provincial\",\n                    \"0.0\"\n                ],\n                [\n                    \"tv\",\n                    \"0.0\"\n                ],\n                [\n                    \"service\",\n                    \"0.0\"\n                ],\n                [\n                    \"indaba\",\n                    \"0.0\"\n                ]\n            ],\n            \"topic 2\": [\n                [\n                    \"virus\",\n                    \"0.04\"\n                ],\n                [\n                    \"corona virus\",\n                    \"0.04\"\n                ],\n                [\n                    \"know\",\n                    \"0.04\"\n                ],\n                [\n                    \"want\",\n                    \"0.03\"\n                ],\n                [\n                    \"cape\",\n                    \"0.03\"\n                ],\n                [\n                    \"south\",\n                    \"0.02\"\n                ],\n                [\n                    \"south africa\",\n                    \"0.02\"\n                ],\n                [\n                    \"africa\",\n                    \"0.02\"\n                ],\n                [\n                    \"corona\",\n                    \"0.02\"\n                ],\n                [\n                    \"want know\",\n                    \"0.02\"\n                ]\n            ],\n            \"topic 3\": [\n                [\n                    \"main menu\",\n                    \"0.03\"\n                ],\n                [\n                    \"main\",\n                    \"0.03\"\n                ],\n                [\n                    \"menu\",\n                    \"0.02\"\n                ],\n                [\n                    \"go\",\n                    \"0.01\"\n                ],\n                [\n                    \"ends\",\n                    \"0.01\"\n                ],\n                [\n                    \"last\",\n                    \"0.01\"\n                ],\n                [\n                    \"going\",\n                    \"0.01\"\n                ],\n                [\n                    \"bit ly\",\n                    \"0.01\"\n                ],\n                [\n                    \"bit\",\n                    \"0.01\"\n                ],\n                [\n                    \"ly\",\n                    \"0.01\"\n                ]\n            ],\n            \"topic 4\": [\n                [\n                    \"food\",\n                    \"0.06\"\n                ],\n                [\n                    \"latest\",\n                    \"0.03\"\n                ],\n                [\n                    \"parcel\",\n                    \"0.03\"\n                ],\n                [\n                    \"please\",\n                    \"0.03\"\n                ],\n                [\n                    \"latest news\",\n                    \"0.03\"\n                ],\n                [\n                    \"food parcel\",\n                    \"0.03\"\n                ],\n                [\n                    \"need\",\n                    \"0.02\"\n                ],\n                [\n                    \"news\",\n                    \"0.02\"\n                ],\n                [\n                    \"parcels\",\n                    \"0.02\"\n                ],\n                [\n                    \"food parcels\",\n                    \"0.02\"\n                ]\n            ],\n            \"topic 5\": [\n                [\n                    \"19\",\n                    \"0.12\"\n                ],\n                [\n                    \"covid\",\n                    \"0.1\"\n                ],\n                [\n                    \"covid 19\",\n                    \"0.1\"\n                ],\n                [\n                    \"today\",\n                    \"0.02\"\n                ],\n                [\n                    \"updates\",\n                    \"0.01\"\n                ],\n                [\n                    \"today cases\",\n                    \"0.01\"\n                ],\n                [\n                    \"infected\",\n                    \"0.01\"\n                ],\n                [\n                    \"people infected\",\n                    \"0.01\"\n                ],\n                [\n                    \"today news\",\n                    \"0.01\"\n                ],\n                [\n                    \"update\",\n                    \"0.01\"\n                ]\n            ],\n            \"topic 6\": [\n                [\n                    \"many\",\n                    \"0.1\"\n                ],\n                [\n                    \"people\",\n                    \"0.05\"\n                ],\n                [\n                    \"many people\",\n                    \"0.04\"\n                ],\n                [\n                    \"cases\",\n                    \"0.02\"\n                ],\n                [\n                    \"many cases\",\n                    \"0.02\"\n                ],\n                [\n                    \"died\",\n                    \"0.01\"\n                ],\n                [\n                    \"ngicela\",\n                    \"0.01\"\n                ],\n                [\n                    \"people died\",\n                    \"0.01\"\n                ],\n                [\n                    \"ukubuza\",\n                    \"0.01\"\n                ],\n                [\n                    \"total\",\n                    \"0.01\"\n                ]\n            ],\n            \"topic 7\": [\n                [\n                    \"open\",\n                    \"0.03\"\n                ],\n                [\n                    \"school\",\n                    \"0.03\"\n                ],\n                [\n                    \"school open\",\n                    \"0.01\"\n                ],\n                [\n                    \"reopen\",\n                    \"0.01\"\n                ],\n                [\n                    \"schools\",\n                    \"0.01\"\n                ],\n                [\n                    \"chronic\",\n                    \"0.01\"\n                ],\n                [\n                    \"ccmdd chronic\",\n                    \"0.01\"\n                ],\n                [\n                    \"medication\",\n                    \"0.01\"\n                ],\n                [\n                    \"ccmdd\",\n                    \"0.01\"\n                ],\n                [\n                    \"high\",\n                    \"0.01\"\n                ]\n            ],\n            \"topic 8\": [\n                [\n                    \"tested\",\n                    \"0.01\"\n                ],\n                [\n                    \"abantu\",\n                    \"0.01\"\n                ],\n                [\n                    \"get tested\",\n                    \"0.01\"\n                ],\n                [\n                    \"working\",\n                    \"0.01\"\n                ],\n                [\n                    \"coz\",\n                    \"0.01\"\n                ],\n                [\n                    \"may\",\n                    \"0.0\"\n                ],\n                [\n                    \"someone\",\n                    \"0.0\"\n                ],\n                [\n                    \"risks\",\n                    \"0.0\"\n                ],\n                [\n                    \"gov\",\n                    \"0.0\"\n                ],\n                [\n                    \"go get\",\n                    \"0.0\"\n                ]\n            ],\n            \"topic 9\": [\n                [\n                    \"opening\",\n                    \"0.02\"\n                ],\n                [\n                    \"port\",\n                    \"0.01\"\n                ],\n                [\n                    \"schools opening\",\n                    \"0.01\"\n                ],\n                [\n                    \"gevalle\",\n                    \"0.01\"\n                ],\n                [\n                    \"long\",\n                    \"0.01\"\n                ],\n                [\n                    \"nuwe\",\n                    \"0.01\"\n                ],\n                [\n                    \"gonna\",\n                    \"0.01\"\n                ],\n                [\n                    \"elizabeth\",\n                    \"0.01\"\n                ],\n                [\n                    \"person\",\n                    \"0.01\"\n                ],\n                [\n                    \"port elizabeth\",\n                    \"0.01\"\n                ]\n            ]\n        }\n    }\n]\n"
    }
   ],
   "source": [
    "print(json.dumps(result_frames, indent=4, sort_keys=True, ensure_ascii=False))"
   ]
  },
  {
   "cell_type": "markdown",
   "metadata": {},
   "source": [
    "# Plot the Results"
   ]
  },
  {
   "cell_type": "code",
   "execution_count": 9,
   "metadata": {},
   "outputs": [
    {
     "output_type": "execute_result",
     "data": {
      "text/plain": "                day                                  uuid  \\\n0  2020-04-16 00:00  b2470cae-9c24-9340-8085-92223ecc2df4   \n1  2020-04-16 00:00  562f2709-67d3-e023-bec0-12b52b256e00   \n2  2020-04-16 00:00  de297728-85db-cdd5-75ca-04d5b02a092c   \n3  2020-04-16 00:00  faf176f7-ee13-f862-db3e-c8f03cf187f6   \n4  2020-04-16 00:00  a776a123-ac0b-9c73-247d-0c084fde52f9   \n\n                               content  rn  \n0                          Oryt Corona   1  \n1                               🤔🤔🤔???   2  \n2                               Corona   3  \n3                                 Case   4  \n4  Dcxfftcfccygggg 🦄🐈🦄🐒🦄🐎🐈🐈🐈🐒🐒🐱🐎⛑️🐶c🌶️   5  ",
      "text/html": "<div>\n<style scoped>\n    .dataframe tbody tr th:only-of-type {\n        vertical-align: middle;\n    }\n\n    .dataframe tbody tr th {\n        vertical-align: top;\n    }\n\n    .dataframe thead th {\n        text-align: right;\n    }\n</style>\n<table border=\"1\" class=\"dataframe\">\n  <thead>\n    <tr style=\"text-align: right;\">\n      <th></th>\n      <th>day</th>\n      <th>uuid</th>\n      <th>content</th>\n      <th>rn</th>\n    </tr>\n  </thead>\n  <tbody>\n    <tr>\n      <th>0</th>\n      <td>2020-04-16 00:00</td>\n      <td>b2470cae-9c24-9340-8085-92223ecc2df4</td>\n      <td>Oryt Corona</td>\n      <td>1</td>\n    </tr>\n    <tr>\n      <th>1</th>\n      <td>2020-04-16 00:00</td>\n      <td>562f2709-67d3-e023-bec0-12b52b256e00</td>\n      <td>🤔🤔🤔???</td>\n      <td>2</td>\n    </tr>\n    <tr>\n      <th>2</th>\n      <td>2020-04-16 00:00</td>\n      <td>de297728-85db-cdd5-75ca-04d5b02a092c</td>\n      <td>Corona</td>\n      <td>3</td>\n    </tr>\n    <tr>\n      <th>3</th>\n      <td>2020-04-16 00:00</td>\n      <td>faf176f7-ee13-f862-db3e-c8f03cf187f6</td>\n      <td>Case</td>\n      <td>4</td>\n    </tr>\n    <tr>\n      <th>4</th>\n      <td>2020-04-16 00:00</td>\n      <td>a776a123-ac0b-9c73-247d-0c084fde52f9</td>\n      <td>Dcxfftcfccygggg 🦄🐈🦄🐒🦄🐎🐈🐈🐈🐒🐒🐱🐎⛑️🐶c🌶️</td>\n      <td>5</td>\n    </tr>\n  </tbody>\n</table>\n</div>"
     },
     "metadata": {},
     "execution_count": 9
    }
   ],
   "source": [
    "df.head()"
   ]
  },
  {
   "cell_type": "code",
   "execution_count": 24,
   "metadata": {},
   "outputs": [],
   "source": [
    "def plot_topic_keywords(result_frame, topic_num=0, save_html=False, tag='<dataset-tag>'):\n",
    "    \"\"\" extract topic keywords and their weights (magnitude of contribution to defining topic)\n",
    "    \"\"\"\n",
    "\n",
    "    keywords = [ key for key, score in result_frame['topics'][f'topic {topic_num}']]\n",
    "    scores = [ score for key, score in result_frame['topics'][f'topic {topic_num}']]\n",
    "\n",
    "    title = f\"Keyword Distribution for Topic {topic_num}\"\n",
    "    fig = px.bar(x=keywords, y=scores)\n",
    "    fig.update_layout(title_text=title, title_x=0.5, xaxis_title= 'Keywords', yaxis_title= \"Weight\")\n",
    "    fig.show()\n",
    "    if save_html:\n",
    "        date = str(datetime.date.today())\n",
    "        fig_3.write_html(f'{tag}-{date}/{tag}-{date}-Keyword Distribution Topic {topic_num}.html')"
   ]
  },
  {
   "cell_type": "code",
   "execution_count": 25,
   "metadata": {},
   "outputs": [
    {
     "output_type": "display_data",
     "data": {
      "application/vnd.plotly.v1+json": {
       "config": {
        "plotlyServerURL": "https://plot.ly"
       },
       "data": [
        {
         "alignmentgroup": "True",
         "hovertemplate": "x=%{x}<br>y=%{y}<extra></extra>",
         "legendgroup": "",
         "marker": {
          "color": "#636efa"
         },
         "name": "",
         "offsetgroup": "",
         "orientation": "v",
         "showlegend": false,
         "textposition": "auto",
         "type": "bar",
         "x": [
          "main menu",
          "main",
          "menu",
          "go",
          "ends",
          "last",
          "going",
          "bit ly",
          "bit",
          "ly"
         ],
         "xaxis": "x",
         "y": [
          "0.03",
          "0.03",
          "0.02",
          "0.01",
          "0.01",
          "0.01",
          "0.01",
          "0.01",
          "0.01",
          "0.01"
         ],
         "yaxis": "y"
        }
       ],
       "layout": {
        "barmode": "relative",
        "legend": {
         "tracegroupgap": 0
        },
        "margin": {
         "t": 60
        },
        "template": {
         "data": {
          "bar": [
           {
            "error_x": {
             "color": "#2a3f5f"
            },
            "error_y": {
             "color": "#2a3f5f"
            },
            "marker": {
             "line": {
              "color": "#E5ECF6",
              "width": 0.5
             }
            },
            "type": "bar"
           }
          ],
          "barpolar": [
           {
            "marker": {
             "line": {
              "color": "#E5ECF6",
              "width": 0.5
             }
            },
            "type": "barpolar"
           }
          ],
          "carpet": [
           {
            "aaxis": {
             "endlinecolor": "#2a3f5f",
             "gridcolor": "white",
             "linecolor": "white",
             "minorgridcolor": "white",
             "startlinecolor": "#2a3f5f"
            },
            "baxis": {
             "endlinecolor": "#2a3f5f",
             "gridcolor": "white",
             "linecolor": "white",
             "minorgridcolor": "white",
             "startlinecolor": "#2a3f5f"
            },
            "type": "carpet"
           }
          ],
          "choropleth": [
           {
            "colorbar": {
             "outlinewidth": 0,
             "ticks": ""
            },
            "type": "choropleth"
           }
          ],
          "contour": [
           {
            "colorbar": {
             "outlinewidth": 0,
             "ticks": ""
            },
            "colorscale": [
             [
              0,
              "#0d0887"
             ],
             [
              0.1111111111111111,
              "#46039f"
             ],
             [
              0.2222222222222222,
              "#7201a8"
             ],
             [
              0.3333333333333333,
              "#9c179e"
             ],
             [
              0.4444444444444444,
              "#bd3786"
             ],
             [
              0.5555555555555556,
              "#d8576b"
             ],
             [
              0.6666666666666666,
              "#ed7953"
             ],
             [
              0.7777777777777778,
              "#fb9f3a"
             ],
             [
              0.8888888888888888,
              "#fdca26"
             ],
             [
              1,
              "#f0f921"
             ]
            ],
            "type": "contour"
           }
          ],
          "contourcarpet": [
           {
            "colorbar": {
             "outlinewidth": 0,
             "ticks": ""
            },
            "type": "contourcarpet"
           }
          ],
          "heatmap": [
           {
            "colorbar": {
             "outlinewidth": 0,
             "ticks": ""
            },
            "colorscale": [
             [
              0,
              "#0d0887"
             ],
             [
              0.1111111111111111,
              "#46039f"
             ],
             [
              0.2222222222222222,
              "#7201a8"
             ],
             [
              0.3333333333333333,
              "#9c179e"
             ],
             [
              0.4444444444444444,
              "#bd3786"
             ],
             [
              0.5555555555555556,
              "#d8576b"
             ],
             [
              0.6666666666666666,
              "#ed7953"
             ],
             [
              0.7777777777777778,
              "#fb9f3a"
             ],
             [
              0.8888888888888888,
              "#fdca26"
             ],
             [
              1,
              "#f0f921"
             ]
            ],
            "type": "heatmap"
           }
          ],
          "heatmapgl": [
           {
            "colorbar": {
             "outlinewidth": 0,
             "ticks": ""
            },
            "colorscale": [
             [
              0,
              "#0d0887"
             ],
             [
              0.1111111111111111,
              "#46039f"
             ],
             [
              0.2222222222222222,
              "#7201a8"
             ],
             [
              0.3333333333333333,
              "#9c179e"
             ],
             [
              0.4444444444444444,
              "#bd3786"
             ],
             [
              0.5555555555555556,
              "#d8576b"
             ],
             [
              0.6666666666666666,
              "#ed7953"
             ],
             [
              0.7777777777777778,
              "#fb9f3a"
             ],
             [
              0.8888888888888888,
              "#fdca26"
             ],
             [
              1,
              "#f0f921"
             ]
            ],
            "type": "heatmapgl"
           }
          ],
          "histogram": [
           {
            "marker": {
             "colorbar": {
              "outlinewidth": 0,
              "ticks": ""
             }
            },
            "type": "histogram"
           }
          ],
          "histogram2d": [
           {
            "colorbar": {
             "outlinewidth": 0,
             "ticks": ""
            },
            "colorscale": [
             [
              0,
              "#0d0887"
             ],
             [
              0.1111111111111111,
              "#46039f"
             ],
             [
              0.2222222222222222,
              "#7201a8"
             ],
             [
              0.3333333333333333,
              "#9c179e"
             ],
             [
              0.4444444444444444,
              "#bd3786"
             ],
             [
              0.5555555555555556,
              "#d8576b"
             ],
             [
              0.6666666666666666,
              "#ed7953"
             ],
             [
              0.7777777777777778,
              "#fb9f3a"
             ],
             [
              0.8888888888888888,
              "#fdca26"
             ],
             [
              1,
              "#f0f921"
             ]
            ],
            "type": "histogram2d"
           }
          ],
          "histogram2dcontour": [
           {
            "colorbar": {
             "outlinewidth": 0,
             "ticks": ""
            },
            "colorscale": [
             [
              0,
              "#0d0887"
             ],
             [
              0.1111111111111111,
              "#46039f"
             ],
             [
              0.2222222222222222,
              "#7201a8"
             ],
             [
              0.3333333333333333,
              "#9c179e"
             ],
             [
              0.4444444444444444,
              "#bd3786"
             ],
             [
              0.5555555555555556,
              "#d8576b"
             ],
             [
              0.6666666666666666,
              "#ed7953"
             ],
             [
              0.7777777777777778,
              "#fb9f3a"
             ],
             [
              0.8888888888888888,
              "#fdca26"
             ],
             [
              1,
              "#f0f921"
             ]
            ],
            "type": "histogram2dcontour"
           }
          ],
          "mesh3d": [
           {
            "colorbar": {
             "outlinewidth": 0,
             "ticks": ""
            },
            "type": "mesh3d"
           }
          ],
          "parcoords": [
           {
            "line": {
             "colorbar": {
              "outlinewidth": 0,
              "ticks": ""
             }
            },
            "type": "parcoords"
           }
          ],
          "pie": [
           {
            "automargin": true,
            "type": "pie"
           }
          ],
          "scatter": [
           {
            "marker": {
             "colorbar": {
              "outlinewidth": 0,
              "ticks": ""
             }
            },
            "type": "scatter"
           }
          ],
          "scatter3d": [
           {
            "line": {
             "colorbar": {
              "outlinewidth": 0,
              "ticks": ""
             }
            },
            "marker": {
             "colorbar": {
              "outlinewidth": 0,
              "ticks": ""
             }
            },
            "type": "scatter3d"
           }
          ],
          "scattercarpet": [
           {
            "marker": {
             "colorbar": {
              "outlinewidth": 0,
              "ticks": ""
             }
            },
            "type": "scattercarpet"
           }
          ],
          "scattergeo": [
           {
            "marker": {
             "colorbar": {
              "outlinewidth": 0,
              "ticks": ""
             }
            },
            "type": "scattergeo"
           }
          ],
          "scattergl": [
           {
            "marker": {
             "colorbar": {
              "outlinewidth": 0,
              "ticks": ""
             }
            },
            "type": "scattergl"
           }
          ],
          "scattermapbox": [
           {
            "marker": {
             "colorbar": {
              "outlinewidth": 0,
              "ticks": ""
             }
            },
            "type": "scattermapbox"
           }
          ],
          "scatterpolar": [
           {
            "marker": {
             "colorbar": {
              "outlinewidth": 0,
              "ticks": ""
             }
            },
            "type": "scatterpolar"
           }
          ],
          "scatterpolargl": [
           {
            "marker": {
             "colorbar": {
              "outlinewidth": 0,
              "ticks": ""
             }
            },
            "type": "scatterpolargl"
           }
          ],
          "scatterternary": [
           {
            "marker": {
             "colorbar": {
              "outlinewidth": 0,
              "ticks": ""
             }
            },
            "type": "scatterternary"
           }
          ],
          "surface": [
           {
            "colorbar": {
             "outlinewidth": 0,
             "ticks": ""
            },
            "colorscale": [
             [
              0,
              "#0d0887"
             ],
             [
              0.1111111111111111,
              "#46039f"
             ],
             [
              0.2222222222222222,
              "#7201a8"
             ],
             [
              0.3333333333333333,
              "#9c179e"
             ],
             [
              0.4444444444444444,
              "#bd3786"
             ],
             [
              0.5555555555555556,
              "#d8576b"
             ],
             [
              0.6666666666666666,
              "#ed7953"
             ],
             [
              0.7777777777777778,
              "#fb9f3a"
             ],
             [
              0.8888888888888888,
              "#fdca26"
             ],
             [
              1,
              "#f0f921"
             ]
            ],
            "type": "surface"
           }
          ],
          "table": [
           {
            "cells": {
             "fill": {
              "color": "#EBF0F8"
             },
             "line": {
              "color": "white"
             }
            },
            "header": {
             "fill": {
              "color": "#C8D4E3"
             },
             "line": {
              "color": "white"
             }
            },
            "type": "table"
           }
          ]
         },
         "layout": {
          "annotationdefaults": {
           "arrowcolor": "#2a3f5f",
           "arrowhead": 0,
           "arrowwidth": 1
          },
          "coloraxis": {
           "colorbar": {
            "outlinewidth": 0,
            "ticks": ""
           }
          },
          "colorscale": {
           "diverging": [
            [
             0,
             "#8e0152"
            ],
            [
             0.1,
             "#c51b7d"
            ],
            [
             0.2,
             "#de77ae"
            ],
            [
             0.3,
             "#f1b6da"
            ],
            [
             0.4,
             "#fde0ef"
            ],
            [
             0.5,
             "#f7f7f7"
            ],
            [
             0.6,
             "#e6f5d0"
            ],
            [
             0.7,
             "#b8e186"
            ],
            [
             0.8,
             "#7fbc41"
            ],
            [
             0.9,
             "#4d9221"
            ],
            [
             1,
             "#276419"
            ]
           ],
           "sequential": [
            [
             0,
             "#0d0887"
            ],
            [
             0.1111111111111111,
             "#46039f"
            ],
            [
             0.2222222222222222,
             "#7201a8"
            ],
            [
             0.3333333333333333,
             "#9c179e"
            ],
            [
             0.4444444444444444,
             "#bd3786"
            ],
            [
             0.5555555555555556,
             "#d8576b"
            ],
            [
             0.6666666666666666,
             "#ed7953"
            ],
            [
             0.7777777777777778,
             "#fb9f3a"
            ],
            [
             0.8888888888888888,
             "#fdca26"
            ],
            [
             1,
             "#f0f921"
            ]
           ],
           "sequentialminus": [
            [
             0,
             "#0d0887"
            ],
            [
             0.1111111111111111,
             "#46039f"
            ],
            [
             0.2222222222222222,
             "#7201a8"
            ],
            [
             0.3333333333333333,
             "#9c179e"
            ],
            [
             0.4444444444444444,
             "#bd3786"
            ],
            [
             0.5555555555555556,
             "#d8576b"
            ],
            [
             0.6666666666666666,
             "#ed7953"
            ],
            [
             0.7777777777777778,
             "#fb9f3a"
            ],
            [
             0.8888888888888888,
             "#fdca26"
            ],
            [
             1,
             "#f0f921"
            ]
           ]
          },
          "colorway": [
           "#636efa",
           "#EF553B",
           "#00cc96",
           "#ab63fa",
           "#FFA15A",
           "#19d3f3",
           "#FF6692",
           "#B6E880",
           "#FF97FF",
           "#FECB52"
          ],
          "font": {
           "color": "#2a3f5f"
          },
          "geo": {
           "bgcolor": "white",
           "lakecolor": "white",
           "landcolor": "#E5ECF6",
           "showlakes": true,
           "showland": true,
           "subunitcolor": "white"
          },
          "hoverlabel": {
           "align": "left"
          },
          "hovermode": "closest",
          "mapbox": {
           "style": "light"
          },
          "paper_bgcolor": "white",
          "plot_bgcolor": "#E5ECF6",
          "polar": {
           "angularaxis": {
            "gridcolor": "white",
            "linecolor": "white",
            "ticks": ""
           },
           "bgcolor": "#E5ECF6",
           "radialaxis": {
            "gridcolor": "white",
            "linecolor": "white",
            "ticks": ""
           }
          },
          "scene": {
           "xaxis": {
            "backgroundcolor": "#E5ECF6",
            "gridcolor": "white",
            "gridwidth": 2,
            "linecolor": "white",
            "showbackground": true,
            "ticks": "",
            "zerolinecolor": "white"
           },
           "yaxis": {
            "backgroundcolor": "#E5ECF6",
            "gridcolor": "white",
            "gridwidth": 2,
            "linecolor": "white",
            "showbackground": true,
            "ticks": "",
            "zerolinecolor": "white"
           },
           "zaxis": {
            "backgroundcolor": "#E5ECF6",
            "gridcolor": "white",
            "gridwidth": 2,
            "linecolor": "white",
            "showbackground": true,
            "ticks": "",
            "zerolinecolor": "white"
           }
          },
          "shapedefaults": {
           "line": {
            "color": "#2a3f5f"
           }
          },
          "ternary": {
           "aaxis": {
            "gridcolor": "white",
            "linecolor": "white",
            "ticks": ""
           },
           "baxis": {
            "gridcolor": "white",
            "linecolor": "white",
            "ticks": ""
           },
           "bgcolor": "#E5ECF6",
           "caxis": {
            "gridcolor": "white",
            "linecolor": "white",
            "ticks": ""
           }
          },
          "title": {
           "x": 0.05
          },
          "xaxis": {
           "automargin": true,
           "gridcolor": "white",
           "linecolor": "white",
           "ticks": "",
           "title": {
            "standoff": 15
           },
           "zerolinecolor": "white",
           "zerolinewidth": 2
          },
          "yaxis": {
           "automargin": true,
           "gridcolor": "white",
           "linecolor": "white",
           "ticks": "",
           "title": {
            "standoff": 15
           },
           "zerolinecolor": "white",
           "zerolinewidth": 2
          }
         }
        },
        "title": {
         "text": "Keyword Distribution for Topic 3",
         "x": 0.5
        },
        "xaxis": {
         "anchor": "y",
         "domain": [
          0,
          1
         ],
         "title": {
          "text": "Keywords"
         }
        },
        "yaxis": {
         "anchor": "x",
         "domain": [
          0,
          1
         ],
         "title": {
          "text": "Weight"
         }
        }
       }
      }
     },
     "metadata": {}
    }
   ],
   "source": [
    "frame_num = 4\n",
    "result_frame = result_frames[frame_num]\n",
    "topic_num = 3\n",
    "\n",
    "plot_topic_keywords(result_frame, topic_num=topic_num, save_html=False, tag='<dataset-tag>' )"
   ]
  },
  {
   "cell_type": "code",
   "execution_count": null,
   "metadata": {},
   "outputs": [],
   "source": []
  }
 ],
 "metadata": {
  "kernelspec": {
   "display_name": "Python 3.7.7 64-bit ('tropical': conda)",
   "language": "python",
   "name": "python37764bittropicalcondac164ff4360b048629e59135893879dfc"
  },
  "language_info": {
   "codemirror_mode": {
    "name": "ipython",
    "version": 3
   },
   "file_extension": ".py",
   "mimetype": "text/x-python",
   "name": "python",
   "nbconvert_exporter": "python",
   "pygments_lexer": "ipython3",
   "version": "3.7.7-final"
  }
 },
 "nbformat": 4,
 "nbformat_minor": 4
}