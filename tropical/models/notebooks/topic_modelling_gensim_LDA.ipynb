{
 "cells": [
  {
   "cell_type": "code",
   "execution_count": 1,
   "metadata": {},
   "outputs": [
    {
     "name": "stdout",
     "output_type": "stream",
     "text": [
      "module_path = /home/ari/Documents/Repos/tropical\n"
     ]
    }
   ],
   "source": [
    "import sys\n",
    "import os\n",
    "\n",
    "# NOTE: The below import is useful to bring the local modules into the Python path!\n",
    "module_path = os.path.abspath(os.path.join('../../..'))\n",
    "print(\"module_path =\", module_path, flush=True)\n",
    "\n",
    "if module_path not in sys.path:\n",
    "    sys.path.append(module_path)\n"
   ]
  },
  {
   "cell_type": "code",
   "execution_count": 2,
   "metadata": {},
   "outputs": [],
   "source": [
    "import unittest\n",
    "import wget\n",
    "import pandas as pd\n",
    "import json\n",
    "\n",
    "import seaborn as sns\n",
    "import matplotlib.pyplot as plt"
   ]
  },
  {
   "cell_type": "code",
   "execution_count": 3,
   "metadata": {},
   "outputs": [],
   "source": [
    "%reload_ext autoreload\n",
    "%autoreload\n",
    "\n",
    "\n",
    "from tropical.models import topic_modelling_gensim_LDA"
   ]
  },
  {
   "cell_type": "code",
   "execution_count": 4,
   "metadata": {},
   "outputs": [],
   "source": [
    "from IPython.core.interactiveshell import InteractiveShell\n",
    "InteractiveShell.ast_node_interactivity = \"all\""
   ]
  },
  {
   "cell_type": "code",
   "execution_count": 5,
   "metadata": {},
   "outputs": [],
   "source": [
    "# file_url = \"https://storage.cloud.google.com/io-feersum-vectors-nlu-prod/Extract_inbound_that_triggered_catchall_2020_04_20.csv\""
   ]
  },
  {
   "cell_type": "code",
   "execution_count": 6,
   "metadata": {},
   "outputs": [
    {
     "name": "stdout",
     "output_type": "stream",
     "text": [
      "Extract_inbound_that_triggered_catchall_2020_04_20.csv\r\n",
      "ngram_analysis_gensim.ipynb\r\n",
      "_readme.txt\r\n",
      "topic-model-example\r\n",
      "topic_modelling_corex.ipynb\r\n",
      "topic_modelling_gensim_LDA.ipynb\r\n",
      "twenty\r\n"
     ]
    }
   ],
   "source": [
    "! ls"
   ]
  },
  {
   "cell_type": "code",
   "execution_count": 7,
   "metadata": {},
   "outputs": [
    {
     "name": "stdout",
     "output_type": "stream",
     "text": [
      "day,uuid,content,rn\r",
      "\r\n",
      "2020-04-16 00:00,b2470cae-9c24-9340-8085-92223ecc2df4,Oryt Corona,1\r",
      "\r\n",
      "2020-04-16 00:00,562f2709-67d3-e023-bec0-12b52b256e00,🤔🤔🤔???,2\r",
      "\r\n",
      "2020-04-16 00:00,de297728-85db-cdd5-75ca-04d5b02a092c,Corona,3\r",
      "\r\n",
      "2020-04-16 00:00,faf176f7-ee13-f862-db3e-c8f03cf187f6,Case,4\r",
      "\r\n",
      "2020-04-16 00:00,a776a123-ac0b-9c73-247d-0c084fde52f9,Dcxfftcfccygggg 🦄🐈🦄🐒🦄🐎🐈🐈🐈🐒🐒🐱🐎⛑️🐶c🌶️,5\r",
      "\r\n",
      "2020-04-16 00:00,85d05d3e-7ed4-af0d-1034-e9ea543dee28,Awe,6\r",
      "\r\n",
      "2020-04-16 00:00,02f22fc8-ad71-4264-8d55-858e7c6cc6fe,Update on covid 19,7\r",
      "\r\n",
      "2020-04-16 00:00,5cc5f3e2-c878-f39b-d9b5-6d9becd50dd0,Case,8\r",
      "\r\n",
      "2020-04-16 00:00,fba3812e-7428-2ada-b453-3b2d46e0998c,*Testing and Symptoms*,9\r",
      "\r\n"
     ]
    }
   ],
   "source": [
    "! head Extract_inbound_that_triggered_catchall_2020_04_20.csv"
   ]
  },
  {
   "cell_type": "code",
   "execution_count": 8,
   "metadata": {},
   "outputs": [
    {
     "name": "stdout",
     "output_type": "stream",
     "text": [
      "filename = Extract_inbound_that_triggered_catchall_2020_04_20.csv\n"
     ]
    },
    {
     "data": {
      "text/plain": [
       "Index(['day', 'uuid', 'content', 'rn'], dtype='object')"
      ]
     },
     "execution_count": 8,
     "metadata": {},
     "output_type": "execute_result"
    },
    {
     "data": {
      "text/html": [
       "<div>\n",
       "<style scoped>\n",
       "    .dataframe tbody tr th:only-of-type {\n",
       "        vertical-align: middle;\n",
       "    }\n",
       "\n",
       "    .dataframe tbody tr th {\n",
       "        vertical-align: top;\n",
       "    }\n",
       "\n",
       "    .dataframe thead th {\n",
       "        text-align: right;\n",
       "    }\n",
       "</style>\n",
       "<table border=\"1\" class=\"dataframe\">\n",
       "  <thead>\n",
       "    <tr style=\"text-align: right;\">\n",
       "      <th></th>\n",
       "      <th>rn</th>\n",
       "    </tr>\n",
       "  </thead>\n",
       "  <tbody>\n",
       "    <tr>\n",
       "      <th>count</th>\n",
       "      <td>20014.000000</td>\n",
       "    </tr>\n",
       "    <tr>\n",
       "      <th>mean</th>\n",
       "      <td>2497.760118</td>\n",
       "    </tr>\n",
       "    <tr>\n",
       "      <th>std</th>\n",
       "      <td>1444.404631</td>\n",
       "    </tr>\n",
       "    <tr>\n",
       "      <th>min</th>\n",
       "      <td>1.000000</td>\n",
       "    </tr>\n",
       "    <tr>\n",
       "      <th>25%</th>\n",
       "      <td>1247.000000</td>\n",
       "    </tr>\n",
       "    <tr>\n",
       "      <th>50%</th>\n",
       "      <td>2498.000000</td>\n",
       "    </tr>\n",
       "    <tr>\n",
       "      <th>75%</th>\n",
       "      <td>3748.750000</td>\n",
       "    </tr>\n",
       "    <tr>\n",
       "      <th>max</th>\n",
       "      <td>4999.000000</td>\n",
       "    </tr>\n",
       "  </tbody>\n",
       "</table>\n",
       "</div>"
      ],
      "text/plain": [
       "                 rn\n",
       "count  20014.000000\n",
       "mean    2497.760118\n",
       "std     1444.404631\n",
       "min        1.000000\n",
       "25%     1247.000000\n",
       "50%     2498.000000\n",
       "75%     3748.750000\n",
       "max     4999.000000"
      ]
     },
     "execution_count": 8,
     "metadata": {},
     "output_type": "execute_result"
    },
    {
     "data": {
      "text/html": [
       "<div>\n",
       "<style scoped>\n",
       "    .dataframe tbody tr th:only-of-type {\n",
       "        vertical-align: middle;\n",
       "    }\n",
       "\n",
       "    .dataframe tbody tr th {\n",
       "        vertical-align: top;\n",
       "    }\n",
       "\n",
       "    .dataframe thead th {\n",
       "        text-align: right;\n",
       "    }\n",
       "</style>\n",
       "<table border=\"1\" class=\"dataframe\">\n",
       "  <thead>\n",
       "    <tr style=\"text-align: right;\">\n",
       "      <th></th>\n",
       "      <th>day</th>\n",
       "      <th>uuid</th>\n",
       "      <th>content</th>\n",
       "      <th>rn</th>\n",
       "    </tr>\n",
       "  </thead>\n",
       "  <tbody>\n",
       "    <tr>\n",
       "      <th>18833</th>\n",
       "      <td>2020-04-20 00:00</td>\n",
       "      <td>6ef1de4c-8fad-7fab-4dcd-f593ca090a3b</td>\n",
       "      <td>Bye</td>\n",
       "      <td>3819</td>\n",
       "    </tr>\n",
       "    <tr>\n",
       "      <th>19524</th>\n",
       "      <td>2020-04-20 00:00</td>\n",
       "      <td>dde331df-b9e4-044f-dc85-b873e1c0b9c5</td>\n",
       "      <td>In south africa</td>\n",
       "      <td>4510</td>\n",
       "    </tr>\n",
       "    <tr>\n",
       "      <th>14796</th>\n",
       "      <td>2020-04-19 00:00</td>\n",
       "      <td>f6480f44-ebcc-7ba0-5d96-6e0ffc645463</td>\n",
       "      <td>I side not too long and number2</td>\n",
       "      <td>4781</td>\n",
       "    </tr>\n",
       "    <tr>\n",
       "      <th>14387</th>\n",
       "      <td>2020-04-19 00:00</td>\n",
       "      <td>01a7aec9-b09d-b258-a3f4-32320a9f338c</td>\n",
       "      <td>Have</td>\n",
       "      <td>4372</td>\n",
       "    </tr>\n",
       "    <tr>\n",
       "      <th>19401</th>\n",
       "      <td>2020-04-20 00:00</td>\n",
       "      <td>d7534e09-5063-8398-f62c-73225df43768</td>\n",
       "      <td>Mres</td>\n",
       "      <td>4387</td>\n",
       "    </tr>\n",
       "  </tbody>\n",
       "</table>\n",
       "</div>"
      ],
      "text/plain": [
       "                    day                                  uuid  \\\n",
       "18833  2020-04-20 00:00  6ef1de4c-8fad-7fab-4dcd-f593ca090a3b   \n",
       "19524  2020-04-20 00:00  dde331df-b9e4-044f-dc85-b873e1c0b9c5   \n",
       "14796  2020-04-19 00:00  f6480f44-ebcc-7ba0-5d96-6e0ffc645463   \n",
       "14387  2020-04-19 00:00  01a7aec9-b09d-b258-a3f4-32320a9f338c   \n",
       "19401  2020-04-20 00:00  d7534e09-5063-8398-f62c-73225df43768   \n",
       "\n",
       "                               content    rn  \n",
       "18833                              Bye  3819  \n",
       "19524                  In south africa  4510  \n",
       "14796  I side not too long and number2  4781  \n",
       "14387                             Have  4372  \n",
       "19401                             Mres  4387  "
      ]
     },
     "execution_count": 8,
     "metadata": {},
     "output_type": "execute_result"
    }
   ],
   "source": [
    "filename = \"Extract_inbound_that_triggered_catchall_2020_04_20.csv\"\n",
    "print(\"filename =\", filename)\n",
    "df = pd.read_csv(filename)\n",
    "# os.remove(filename)\n",
    "\n",
    "df.columns\n",
    "df.describe()\n",
    "df.sample(n=5)"
   ]
  },
  {
   "cell_type": "code",
   "execution_count": 9,
   "metadata": {},
   "outputs": [],
   "source": [
    "analyser = topic_modelling_gensim_LDA.TopicModellingGensimLDA(n_topics=6)"
   ]
  },
  {
   "cell_type": "code",
   "execution_count": 10,
   "metadata": {},
   "outputs": [
    {
     "name": "stdout",
     "output_type": "stream",
     "text": [
      "utterance_length_threshold = 231.0\n",
      "Working on Frame 2020-04-16 00:00\n",
      "Running Model for 2 topics\n",
      "Running Model for 4 topics\n",
      "Running Model for 6 topics\n",
      "[0.7377698099325103, 0.7665336737763249, 0.7798954121372823]\n",
      "Working on Frame 2020-04-17 00:00\n",
      "Running Model for 2 topics\n",
      "Running Model for 4 topics\n",
      "Running Model for 6 topics\n",
      "[0.6386102640386143, 0.6074705384193487, 0.593578572085077]\n",
      "Working on Frame 2020-04-18 00:00\n",
      "Running Model for 2 topics\n",
      "Running Model for 4 topics\n",
      "Running Model for 6 topics\n",
      "[0.6595983941854513, 0.5937174290720859, 0.5789413815841812]\n",
      "Working on Frame 2020-04-19 00:00\n",
      "Running Model for 2 topics\n",
      "Running Model for 4 topics\n",
      "Running Model for 6 topics\n",
      "[0.6422721993558702, 0.6166330510328082, 0.6197107920476727]\n",
      "Working on Frame 2020-04-20 00:00\n",
      "Running Model for 2 topics\n",
      "Running Model for 4 topics\n",
      "Running Model for 6 topics\n",
      "[0.593444433977295, 0.6815407148339405, 0.6446779141646177]\n",
      "CPU times: user 1min 17s, sys: 877 ms, total: 1min 18s\n",
      "Wall time: 1min 18s\n"
     ]
    }
   ],
   "source": [
    "%%time\n",
    "result_frames = analyser.analyse_dataframe(df, delimiter=b'|')"
   ]
  },
  {
   "cell_type": "code",
   "execution_count": 20,
   "metadata": {},
   "outputs": [
    {
     "data": {
      "text/plain": [
       "dict_keys(['time_frame', 'num_utterances', 'topics', 'coherence'])"
      ]
     },
     "execution_count": 20,
     "metadata": {},
     "output_type": "execute_result"
    }
   ],
   "source": [
    "result_frames[0].keys()"
   ]
  },
  {
   "cell_type": "code",
   "execution_count": 11,
   "metadata": {},
   "outputs": [
    {
     "name": "stdout",
     "output_type": "stream",
     "text": [
      "Topic modelling analysis was run on 5 time frames\n",
      "['2020-04-16 00:00', '2020-04-17 00:00', '2020-04-18 00:00', '2020-04-19 00:00', '2020-04-20 00:00']\n"
     ]
    }
   ],
   "source": [
    "print(f\"Topic modelling analysis was run on {len(result_frames)} time frames\")\n",
    "print(f\"{[result_frame.get('time_frame') for result_frame in result_frames]}\")"
   ]
  },
  {
   "cell_type": "code",
   "execution_count": 30,
   "metadata": {},
   "outputs": [
    {
     "name": "stdout",
     "output_type": "stream",
     "text": [
      "For 2020-04-16 00:00 the best number of topics was 6.     \n",
      "With coherence = 0.7798954121372823\n",
      "\n",
      "----TOPIC 0----\n",
      "Term | Probablitiy\n",
      "('and', 0.11290074)\n",
      "('*testing', 0.112900086)\n",
      "('symptoms*', 0.11289996)\n",
      "('🦄🐈🦄🐒🦄🐎🐈🐈🐈🐒🐒🐱🐎⛑️🐶c🌶️', 0.112898976)\n",
      "('dcxfftcfccygggg', 0.112898715)\n",
      "('🤔🤔🤔???', 0.11289039)\n",
      "('case', 0.016134648)\n",
      "('oky', 0.016132787)\n",
      "('corona', 0.016132398)\n",
      "('linkolelo', 0.016131556)\n",
      "\n",
      "----TOPIC 1----\n",
      "Term | Probablitiy\n",
      "('deaths', 0.09459338)\n",
      "('many', 0.09459304)\n",
      "('how', 0.094592966)\n",
      "('in', 0.094592795)\n",
      "('limpopo?', 0.094592735)\n",
      "('ngiyabonga', 0.0945908)\n",
      "('ngolwazi', 0.09459022)\n",
      "('please', 0.09458542)\n",
      "('case', 0.013519254)\n",
      "('oky', 0.013516416)\n",
      "\n",
      "----TOPIC 2----\n",
      "Term | Probablitiy\n",
      "('corona', 0.2316245)\n",
      "('oky', 0.23161884)\n",
      "('oryt', 0.12523086)\n",
      "('case', 0.017898567)\n",
      "('🤔🤔🤔???', 0.017894242)\n",
      "('awe', 0.017893676)\n",
      "('linkolelo', 0.017893214)\n",
      "('please', 0.017893167)\n",
      "('skip', 0.017893134)\n",
      "('o', 0.017892698)\n",
      "\n",
      "----TOPIC 3----\n",
      "Term | Probablitiy\n",
      "('skip', 0.18393707)\n",
      "('awe', 0.1839355)\n",
      "('case', 0.027673438)\n",
      "('oky', 0.02628437)\n",
      "('corona', 0.026282607)\n",
      "('🤔🤔🤔???', 0.026282573)\n",
      "('please', 0.026282238)\n",
      "('linkolelo', 0.02628219)\n",
      "('o', 0.026281042)\n",
      "('ngolwazi', 0.026280683)\n",
      "\n",
      "----TOPIC 4----\n",
      "Term | Probablitiy\n",
      "('case', 0.37931105)\n",
      "('o', 0.14013982)\n",
      "('oky', 0.020026362)\n",
      "('corona', 0.0200251)\n",
      "('🤔🤔🤔???', 0.020024955)\n",
      "('please', 0.020024719)\n",
      "('linkolelo', 0.02002447)\n",
      "('skip', 0.02002382)\n",
      "('awe', 0.020023739)\n",
      "('oryt', 0.02002273)\n",
      "\n",
      "----TOPIC 5----\n",
      "Term | Probablitiy\n",
      "('19', 0.1247614)\n",
      "('on', 0.12476135)\n",
      "('update', 0.12476119)\n",
      "('covid', 0.124760896)\n",
      "('linkolelo', 0.12475167)\n",
      "('oky', 0.018767461)\n",
      "('corona', 0.018765155)\n",
      "('case', 0.017829396)\n",
      "('🤔🤔🤔???', 0.017825942)\n",
      "('please', 0.017825615)\n",
      "\n",
      "For 2020-04-17 00:00 the best number of topics was 2.     \n",
      "With coherence = 0.6386102640386143\n",
      "\n",
      "----TOPIC 0----\n",
      "Term | Probablitiy\n",
      "('how', 0.02012297)\n",
      "('are', 0.014717007)\n",
      "('case', 0.013238342)\n",
      "('🗓️', 0.012999258)\n",
      "('cases', 0.01116257)\n",
      "('corona', 0.008867118)\n",
      "('i', 0.00824842)\n",
      "('many', 0.0065983585)\n",
      "('the', 0.0065409425)\n",
      "('ok', 0.006453511)\n",
      "\n",
      "----TOPIC 1----\n",
      "Term | Probablitiy\n",
      "('the', 0.020467173)\n",
      "('i', 0.019467114)\n",
      "('to', 0.0186665)\n",
      "('is', 0.011584481)\n",
      "('for', 0.010295351)\n",
      "('you', 0.009737857)\n",
      "('what', 0.009009702)\n",
      "('of', 0.00838419)\n",
      "('in', 0.008301997)\n",
      "('and', 0.00824847)\n",
      "\n",
      "For 2020-04-18 00:00 the best number of topics was 2.     \n",
      "With coherence = 0.6595983941854513\n",
      "\n",
      "----TOPIC 0----\n",
      "Term | Probablitiy\n",
      "('i', 0.0132877715)\n",
      "('is', 0.013089681)\n",
      "('case', 0.012729542)\n",
      "('corona', 0.012705072)\n",
      "('the', 0.012611814)\n",
      "('🗓️', 0.008171665)\n",
      "('for', 0.007925789)\n",
      "('to', 0.007715053)\n",
      "('news', 0.0071312496)\n",
      "('🗓', 0.0070537557)\n",
      "\n",
      "----TOPIC 1----\n",
      "Term | Probablitiy\n",
      "('how', 0.014521658)\n",
      "('the', 0.013652742)\n",
      "('to', 0.012649272)\n",
      "('🗓️', 0.012489815)\n",
      "('in', 0.011339613)\n",
      "('case', 0.011248566)\n",
      "('cases', 0.01124451)\n",
      "('i', 0.01111773)\n",
      "('of', 0.010123021)\n",
      "('what', 0.008082439)\n",
      "\n",
      "For 2020-04-19 00:00 the best number of topics was 2.     \n",
      "With coherence = 0.6422721993558702\n",
      "\n",
      "----TOPIC 0----\n",
      "Term | Probablitiy\n",
      "('case', 0.021679146)\n",
      "('is', 0.015132947)\n",
      "('you', 0.011034476)\n",
      "('🗓️', 0.009661954)\n",
      "('how', 0.0094486205)\n",
      "('and', 0.009086895)\n",
      "('the', 0.008925066)\n",
      "('bold', 0.007572896)\n",
      "('in', 0.00714141)\n",
      "('ok', 0.007114073)\n",
      "\n",
      "----TOPIC 1----\n",
      "Term | Probablitiy\n",
      "('i', 0.018873561)\n",
      "('to', 0.01803573)\n",
      "('the', 0.015199157)\n",
      "('how', 0.014985416)\n",
      "('🗓️', 0.0111936405)\n",
      "('cases', 0.010339046)\n",
      "('of', 0.010103617)\n",
      "('in', 0.009358361)\n",
      "('corona', 0.009227555)\n",
      "('what', 0.008658112)\n",
      "\n",
      "For 2020-04-20 00:00 the best number of topics was 4.     \n",
      "With coherence = 0.6815407148339405\n",
      "\n",
      "----TOPIC 0----\n",
      "Term | Probablitiy\n",
      "('i', 0.03298807)\n",
      "('how', 0.021615935)\n",
      "('to', 0.018299313)\n",
      "('a', 0.012441217)\n",
      "('in', 0.012193463)\n",
      "('death', 0.011923769)\n",
      "('the', 0.011482404)\n",
      "('have', 0.010489243)\n",
      "('casea', 0.008475723)\n",
      "('is', 0.008353568)\n",
      "\n",
      "----TOPIC 1----\n",
      "Term | Probablitiy\n",
      "('of', 0.021071795)\n",
      "('the', 0.020032147)\n",
      "('corona', 0.01822772)\n",
      "('to', 0.015290857)\n",
      "('you', 0.014299122)\n",
      "('in', 0.013043311)\n",
      "('i', 0.012817908)\n",
      "('🗓', 0.012422747)\n",
      "('are', 0.01089857)\n",
      "('how', 0.010351331)\n",
      "\n",
      "----TOPIC 2----\n",
      "Term | Probablitiy\n",
      "('case', 0.048498187)\n",
      "('🗓️', 0.032256667)\n",
      "('cases', 0.020019842)\n",
      "('deaths', 0.014099808)\n",
      "('bold', 0.01280157)\n",
      "('to', 0.012393156)\n",
      "('morning', 0.011694961)\n",
      "('we', 0.009604896)\n",
      "('is', 0.009601943)\n",
      "('what', 0.009105689)\n",
      "\n",
      "----TOPIC 3----\n",
      "Term | Probablitiy\n",
      "('news', 0.01908288)\n",
      "('ok', 0.017398993)\n",
      "('csses', 0.010964294)\n",
      "(\"case's\", 0.009805162)\n",
      "('status', 0.008268429)\n",
      "('and', 0.0060882666)\n",
      "('k', 0.0060784183)\n",
      "('y', 0.005277185)\n",
      "('any', 0.005100148)\n",
      "('limpopo', 0.004780169)\n",
      "\n"
     ]
    }
   ],
   "source": [
    "# how many topics for each time frame\n",
    "for result_frame in result_frames:\n",
    "    print(f\"For {result_frame.get('time_frame')} the best number of topics was {len(result_frame.get('topics'))}. \\\n",
    "    \\nWith coherence = {result_frame.get('coherence')}\\n\")\n",
    "    \n",
    "    for topic_number in range(len(result_frame.get('topics'))):\n",
    "        print(f\"----TOPIC {topic_number}----\")\n",
    "        print(f\"Term | Probablitiy\")\n",
    "        for terms in (result_frame.get('topics')[topic_number]):\n",
    "            print(terms)\n",
    "        print()"
   ]
  },
  {
   "cell_type": "code",
   "execution_count": 13,
   "metadata": {},
   "outputs": [],
   "source": [
    "# for term, prob in topic_terms:\n",
    "#     print(term)\n",
    "#     print(prob)\n",
    "#     break"
   ]
  },
  {
   "cell_type": "code",
   "execution_count": 14,
   "metadata": {},
   "outputs": [],
   "source": [
    "# for i, topic in enumerate(result_frames[0].get('topics')[0].get('topic_terms')):\n",
    "#     print(i, topic)\n",
    "#     print()"
   ]
  },
  {
   "cell_type": "code",
   "execution_count": 15,
   "metadata": {},
   "outputs": [
    {
     "ename": "AttributeError",
     "evalue": "'DataFrame' object has no attribute 'groupb'",
     "output_type": "error",
     "traceback": [
      "\u001b[0;31m---------------------------------------------------------------------------\u001b[0m",
      "\u001b[0;31mAttributeError\u001b[0m                            Traceback (most recent call last)",
      "\u001b[0;32m<ipython-input-15-ee989fb4839e>\u001b[0m in \u001b[0;36m<module>\u001b[0;34m\u001b[0m\n\u001b[0;32m----> 1\u001b[0;31m \u001b[0mby_day\u001b[0m \u001b[0;34m=\u001b[0m \u001b[0mdf\u001b[0m\u001b[0;34m.\u001b[0m\u001b[0mgroupb\u001b[0m\u001b[0;34m/\u001b[0m\u001b[0my\u001b[0m\u001b[0;34m(\u001b[0m\u001b[0;34m'day'\u001b[0m\u001b[0;34m)\u001b[0m\u001b[0;34m\u001b[0m\u001b[0;34m\u001b[0m\u001b[0m\n\u001b[0m",
      "\u001b[0;32m~/anaconda3/envs/tropical/lib/python3.7/site-packages/pandas/core/generic.py\u001b[0m in \u001b[0;36m__getattr__\u001b[0;34m(self, name)\u001b[0m\n\u001b[1;32m   5272\u001b[0m             \u001b[0;32mif\u001b[0m \u001b[0mself\u001b[0m\u001b[0;34m.\u001b[0m\u001b[0m_info_axis\u001b[0m\u001b[0;34m.\u001b[0m\u001b[0m_can_hold_identifiers_and_holds_name\u001b[0m\u001b[0;34m(\u001b[0m\u001b[0mname\u001b[0m\u001b[0;34m)\u001b[0m\u001b[0;34m:\u001b[0m\u001b[0;34m\u001b[0m\u001b[0;34m\u001b[0m\u001b[0m\n\u001b[1;32m   5273\u001b[0m                 \u001b[0;32mreturn\u001b[0m \u001b[0mself\u001b[0m\u001b[0;34m[\u001b[0m\u001b[0mname\u001b[0m\u001b[0;34m]\u001b[0m\u001b[0;34m\u001b[0m\u001b[0;34m\u001b[0m\u001b[0m\n\u001b[0;32m-> 5274\u001b[0;31m             \u001b[0;32mreturn\u001b[0m \u001b[0mobject\u001b[0m\u001b[0;34m.\u001b[0m\u001b[0m__getattribute__\u001b[0m\u001b[0;34m(\u001b[0m\u001b[0mself\u001b[0m\u001b[0;34m,\u001b[0m \u001b[0mname\u001b[0m\u001b[0;34m)\u001b[0m\u001b[0;34m\u001b[0m\u001b[0;34m\u001b[0m\u001b[0m\n\u001b[0m\u001b[1;32m   5275\u001b[0m \u001b[0;34m\u001b[0m\u001b[0m\n\u001b[1;32m   5276\u001b[0m     \u001b[0;32mdef\u001b[0m \u001b[0m__setattr__\u001b[0m\u001b[0;34m(\u001b[0m\u001b[0mself\u001b[0m\u001b[0;34m,\u001b[0m \u001b[0mname\u001b[0m\u001b[0;34m:\u001b[0m \u001b[0mstr\u001b[0m\u001b[0;34m,\u001b[0m \u001b[0mvalue\u001b[0m\u001b[0;34m)\u001b[0m \u001b[0;34m->\u001b[0m \u001b[0;32mNone\u001b[0m\u001b[0;34m:\u001b[0m\u001b[0;34m\u001b[0m\u001b[0;34m\u001b[0m\u001b[0m\n",
      "\u001b[0;31mAttributeError\u001b[0m: 'DataFrame' object has no attribute 'groupb'"
     ]
    }
   ],
   "source": [
    "by_day = df.groupb/y('day')"
   ]
  },
  {
   "cell_type": "code",
   "execution_count": null,
   "metadata": {},
   "outputs": [],
   "source": [
    "for day,df in by_day:\n",
    "#     print(day)\n",
    "    df.head()\n",
    "    print()"
   ]
  },
  {
   "cell_type": "code",
   "execution_count": null,
   "metadata": {},
   "outputs": [],
   "source": []
  }
 ],
 "metadata": {
  "kernelspec": {
   "display_name": "Python 3",
   "language": "python",
   "name": "python3"
  },
  "language_info": {
   "codemirror_mode": {
    "name": "ipython",
    "version": 3
   },
   "file_extension": ".py",
   "mimetype": "text/x-python",
   "name": "python",
   "nbconvert_exporter": "python",
   "pygments_lexer": "ipython3",
   "version": "3.7.7"
  }
 },
 "nbformat": 4,
 "nbformat_minor": 4
}
